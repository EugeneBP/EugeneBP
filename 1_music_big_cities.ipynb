{
  "cells": [
    {
      "cell_type": "markdown",
      "metadata": {
        "id": "E0vqbgi9ay0H"
      },
      "source": [
        "# Яндекс.Музыка"
      ]
    },
    {
      "cell_type": "markdown",
      "metadata": {
        "id": "VUC88oWjTJw2"
      },
      "source": [
        "Сравнение Москвы и Петербурга окружено мифами. Например:\n",
        " * Москва — мегаполис, подчинённый жёсткому ритму рабочей недели;\n",
        " * Петербург — культурная столица, со своими вкусами.\n",
        "\n",
        "На данных Яндекс.Музыки вы сравните поведение пользователей двух столиц.\n",
        "\n",
        "**Цель исследования** — проверьте три гипотезы:\n",
        "1. Активность пользователей зависит от дня недели. Причём в Москве и Петербурге это проявляется по-разному.\n",
        "2. В понедельник утром в Москве преобладают одни жанры, а в Петербурге — другие. Так же и вечером пятницы преобладают разные жанры — в зависимости от города. \n",
        "3. Москва и Петербург предпочитают разные жанры музыки. В Москве чаще слушают поп-музыку, в Петербурге — русский рэп.\n",
        "\n",
        "**Ход исследования**\n",
        "\n",
        "Данные о поведении пользователей вы получите из файла `yandex_music_project.csv`. О качестве данных ничего не известно. Поэтому перед проверкой гипотез понадобится обзор данных. \n",
        "\n",
        "Вы проверите данные на ошибки и оцените их влияние на исследование. Затем, на этапе предобработки вы поищете возможность исправить самые критичные ошибки данных.\n",
        " \n",
        "Таким образом, исследование пройдёт в три этапа:\n",
        " 1. Обзор данных.\n",
        " 2. Предобработка данных.\n",
        " 3. Проверка гипотез.\n",
        "\n"
      ]
    },
    {
      "cell_type": "markdown",
      "metadata": {
        "id": "Ml1hmfXC_Zcs"
      },
      "source": [
        "## Обзор данных\n",
        "\n",
        "Составьте первое представление о данных Яндекс.Музыки.\n",
        "\n",
        "\n"
      ]
    },
    {
      "cell_type": "markdown",
      "metadata": {
        "id": "57eAOGIz_Zcs"
      },
      "source": [
        "Основной инструмент аналитика — `pandas`. Импортируйте эту библиотеку."
      ]
    },
    {
      "cell_type": "code",
      "execution_count": null,
      "metadata": {
        "id": "AXN7PHPN_Zcs"
      },
      "outputs": [],
      "source": [
        "import pandas as pd # импорт библиотеки pandas"
      ]
    },
    {
      "cell_type": "markdown",
      "metadata": {
        "id": "SG23P8tt_Zcs"
      },
      "source": [
        "Прочитайте файл `yandex_music_project.csv` из папки `/datasets` и сохраните его в переменной `df`:"
      ]
    },
    {
      "cell_type": "code",
      "execution_count": null,
      "metadata": {
        "id": "fFVu7vqh_Zct"
      },
      "outputs": [],
      "source": [
        "df = pd.read_csv('/datasets/yandex_music_project.csv') # чтение файла с данными и сохранение в df"
      ]
    },
    {
      "cell_type": "markdown",
      "metadata": {
        "id": "rDoOMd3uTqnZ"
      },
      "source": [
        "Выведите на экран первые десять строк таблицы:"
      ]
    },
    {
      "cell_type": "code",
      "execution_count": null,
      "metadata": {
        "id": "oWTVX3gW_Zct",
        "outputId": "c3d57fc4-55a6-47f8-f6d3-ae823eaa4241"
      },
      "outputs": [
        {
          "data": {
            "text/html": [
              "<div>\n",
              "<style scoped>\n",
              "    .dataframe tbody tr th:only-of-type {\n",
              "        vertical-align: middle;\n",
              "    }\n",
              "\n",
              "    .dataframe tbody tr th {\n",
              "        vertical-align: top;\n",
              "    }\n",
              "\n",
              "    .dataframe thead th {\n",
              "        text-align: right;\n",
              "    }\n",
              "</style>\n",
              "<table border=\"1\" class=\"dataframe\">\n",
              "  <thead>\n",
              "    <tr style=\"text-align: right;\">\n",
              "      <th></th>\n",
              "      <th>userID</th>\n",
              "      <th>Track</th>\n",
              "      <th>artist</th>\n",
              "      <th>genre</th>\n",
              "      <th>City</th>\n",
              "      <th>time</th>\n",
              "      <th>Day</th>\n",
              "    </tr>\n",
              "  </thead>\n",
              "  <tbody>\n",
              "    <tr>\n",
              "      <td>0</td>\n",
              "      <td>FFB692EC</td>\n",
              "      <td>Kamigata To Boots</td>\n",
              "      <td>The Mass Missile</td>\n",
              "      <td>rock</td>\n",
              "      <td>Saint-Petersburg</td>\n",
              "      <td>20:28:33</td>\n",
              "      <td>Wednesday</td>\n",
              "    </tr>\n",
              "    <tr>\n",
              "      <td>1</td>\n",
              "      <td>55204538</td>\n",
              "      <td>Delayed Because of Accident</td>\n",
              "      <td>Andreas Rönnberg</td>\n",
              "      <td>rock</td>\n",
              "      <td>Moscow</td>\n",
              "      <td>14:07:09</td>\n",
              "      <td>Friday</td>\n",
              "    </tr>\n",
              "    <tr>\n",
              "      <td>2</td>\n",
              "      <td>20EC38</td>\n",
              "      <td>Funiculì funiculà</td>\n",
              "      <td>Mario Lanza</td>\n",
              "      <td>pop</td>\n",
              "      <td>Saint-Petersburg</td>\n",
              "      <td>20:58:07</td>\n",
              "      <td>Wednesday</td>\n",
              "    </tr>\n",
              "    <tr>\n",
              "      <td>3</td>\n",
              "      <td>A3DD03C9</td>\n",
              "      <td>Dragons in the Sunset</td>\n",
              "      <td>Fire + Ice</td>\n",
              "      <td>folk</td>\n",
              "      <td>Saint-Petersburg</td>\n",
              "      <td>08:37:09</td>\n",
              "      <td>Monday</td>\n",
              "    </tr>\n",
              "    <tr>\n",
              "      <td>4</td>\n",
              "      <td>E2DC1FAE</td>\n",
              "      <td>Soul People</td>\n",
              "      <td>Space Echo</td>\n",
              "      <td>dance</td>\n",
              "      <td>Moscow</td>\n",
              "      <td>08:34:34</td>\n",
              "      <td>Monday</td>\n",
              "    </tr>\n",
              "    <tr>\n",
              "      <td>5</td>\n",
              "      <td>842029A1</td>\n",
              "      <td>Преданная</td>\n",
              "      <td>IMPERVTOR</td>\n",
              "      <td>rusrap</td>\n",
              "      <td>Saint-Petersburg</td>\n",
              "      <td>13:09:41</td>\n",
              "      <td>Friday</td>\n",
              "    </tr>\n",
              "    <tr>\n",
              "      <td>6</td>\n",
              "      <td>4CB90AA5</td>\n",
              "      <td>True</td>\n",
              "      <td>Roman Messer</td>\n",
              "      <td>dance</td>\n",
              "      <td>Moscow</td>\n",
              "      <td>13:00:07</td>\n",
              "      <td>Wednesday</td>\n",
              "    </tr>\n",
              "    <tr>\n",
              "      <td>7</td>\n",
              "      <td>F03E1C1F</td>\n",
              "      <td>Feeling This Way</td>\n",
              "      <td>Polina Griffith</td>\n",
              "      <td>dance</td>\n",
              "      <td>Moscow</td>\n",
              "      <td>20:47:49</td>\n",
              "      <td>Wednesday</td>\n",
              "    </tr>\n",
              "    <tr>\n",
              "      <td>8</td>\n",
              "      <td>8FA1D3BE</td>\n",
              "      <td>И вновь продолжается бой</td>\n",
              "      <td>NaN</td>\n",
              "      <td>ruspop</td>\n",
              "      <td>Moscow</td>\n",
              "      <td>09:17:40</td>\n",
              "      <td>Friday</td>\n",
              "    </tr>\n",
              "    <tr>\n",
              "      <td>9</td>\n",
              "      <td>E772D5C0</td>\n",
              "      <td>Pessimist</td>\n",
              "      <td>NaN</td>\n",
              "      <td>dance</td>\n",
              "      <td>Saint-Petersburg</td>\n",
              "      <td>21:20:49</td>\n",
              "      <td>Wednesday</td>\n",
              "    </tr>\n",
              "  </tbody>\n",
              "</table>\n",
              "</div>"
            ],
            "text/plain": [
              "     userID                        Track            artist   genre  \\\n",
              "0  FFB692EC            Kamigata To Boots  The Mass Missile    rock   \n",
              "1  55204538  Delayed Because of Accident  Andreas Rönnberg    rock   \n",
              "2    20EC38            Funiculì funiculà       Mario Lanza     pop   \n",
              "3  A3DD03C9        Dragons in the Sunset        Fire + Ice    folk   \n",
              "4  E2DC1FAE                  Soul People        Space Echo   dance   \n",
              "5  842029A1                    Преданная         IMPERVTOR  rusrap   \n",
              "6  4CB90AA5                         True      Roman Messer   dance   \n",
              "7  F03E1C1F             Feeling This Way   Polina Griffith   dance   \n",
              "8  8FA1D3BE     И вновь продолжается бой               NaN  ruspop   \n",
              "9  E772D5C0                    Pessimist               NaN   dance   \n",
              "\n",
              "             City        time        Day  \n",
              "0  Saint-Petersburg  20:28:33  Wednesday  \n",
              "1            Moscow  14:07:09     Friday  \n",
              "2  Saint-Petersburg  20:58:07  Wednesday  \n",
              "3  Saint-Petersburg  08:37:09     Monday  \n",
              "4            Moscow  08:34:34     Monday  \n",
              "5  Saint-Petersburg  13:09:41     Friday  \n",
              "6            Moscow  13:00:07  Wednesday  \n",
              "7            Moscow  20:47:49  Wednesday  \n",
              "8            Moscow  09:17:40     Friday  \n",
              "9  Saint-Petersburg  21:20:49  Wednesday  "
            ]
          },
          "execution_count": 3,
          "metadata": {},
          "output_type": "execute_result"
        }
      ],
      "source": [
        "df.head(10) # получение первых 10 строк таблицы df"
      ]
    },
    {
      "cell_type": "markdown",
      "metadata": {
        "id": "EO73Kwic_Zct"
      },
      "source": [
        "Одной командой получить общую информацию о таблице:"
      ]
    },
    {
      "cell_type": "code",
      "execution_count": null,
      "metadata": {
        "id": "DSf2kIb-_Zct",
        "outputId": "624f0861-23e0-4d6e-9b8d-a1fa4716df8a"
      },
      "outputs": [
        {
          "name": "stdout",
          "output_type": "stream",
          "text": [
            "<class 'pandas.core.frame.DataFrame'>\n",
            "RangeIndex: 65079 entries, 0 to 65078\n",
            "Data columns (total 7 columns):\n",
            "  userID    65079 non-null object\n",
            "Track       63848 non-null object\n",
            "artist      57876 non-null object\n",
            "genre       63881 non-null object\n",
            "  City      65079 non-null object\n",
            "time        65079 non-null object\n",
            "Day         65079 non-null object\n",
            "dtypes: object(7)\n",
            "memory usage: 3.5+ MB\n"
          ]
        }
      ],
      "source": [
        "df.info() # получение общей информации о данных в таблице df"
      ]
    },
    {
      "cell_type": "markdown",
      "metadata": {
        "id": "TaQ2Iwbr_Zct"
      },
      "source": [
        "Итак, в таблице семь столбцов. Тип данных во всех столбцах — `object`.\n",
        "\n",
        "Согласно документации к данным:\n",
        "* `userID` — идентификатор пользователя;\n",
        "* `Track` — название трека;  \n",
        "* `artist` — имя исполнителя;\n",
        "* `genre` — название жанра;\n",
        "* `City` — город пользователя;\n",
        "* `time` — время начала прослушивания;\n",
        "* `Day` — день недели.\n",
        "\n",
        "В названиях колонок видны три нарушения стиля:\n",
        "1. Строчные буквы сочетаются с прописными.\n",
        "2. Встречаются пробелы.\n",
        "3. Найдите ещё одну проблему в названии колонок и опишите её в этом пункте. Заголовок 'userID' необходимо перевести в змеиный регистр.\n",
        "\n",
        "\n",
        "\n",
        "Количество значений в столбцах различается. Значит, в данных есть пропущенные значения.\n"
      ]
    },
    {
      "cell_type": "markdown",
      "metadata": {
        "id": "MCB6-dXG_Zct"
      },
      "source": [
        "**Выводы**\n",
        "\n",
        "В каждой строке таблицы — данные о прослушанном треке. Часть колонок описывает саму композицию: название, исполнителя и жанр. Остальные данные рассказывают о пользователе: из какого он города, когда он слушал музыку. \n",
        "\n",
        "Предварительно можно утверждать, что, данных достаточно для проверки гипотез. Но встречаются пропуски в данных, а в названиях колонок — расхождения с хорошим стилем.\n",
        "\n",
        "Чтобы двигаться дальше, нужно устранить проблемы в данных."
      ]
    },
    {
      "cell_type": "markdown",
      "metadata": {
        "id": "SjYF6Ub9_Zct"
      },
      "source": [
        "## Предобработка данных\n",
        "Исправьте стиль в заголовках столбцов, исключите пропуски. Затем проверьте данные на дубликаты."
      ]
    },
    {
      "cell_type": "markdown",
      "metadata": {
        "id": "dIaKXr29_Zct"
      },
      "source": [
        "### Стиль заголовков\n",
        "Выведите на экран названия столбцов:"
      ]
    },
    {
      "cell_type": "code",
      "execution_count": null,
      "metadata": {
        "id": "oKOTdF_Q_Zct",
        "outputId": "7a53eb41-00bb-4525-d370-3b772ffd8219"
      },
      "outputs": [
        {
          "data": {
            "text/plain": [
              "Index(['  userID', 'Track', 'artist', 'genre', '  City  ', 'time', 'Day'], dtype='object')"
            ]
          },
          "execution_count": 5,
          "metadata": {},
          "output_type": "execute_result"
        }
      ],
      "source": [
        "df.columns # перечень названий столбцов таблицы df"
      ]
    },
    {
      "cell_type": "markdown",
      "metadata": {
        "id": "zj5534cv_Zct"
      },
      "source": [
        "Приведите названия в соответствие с хорошим стилем:\n",
        "* несколько слов в названии запишите в «змеином_регистре»,\n",
        "* все символы сделайте строчными,\n",
        "* устраните пробелы.\n",
        "\n",
        "Для этого переименуйте колонки так:\n",
        "* `'  userID'` → `'user_id'`;\n",
        "* `'Track'` → `'track'`;\n",
        "* `'  City  '` → `'city'`;\n",
        "* `'Day'` → `'day'`."
      ]
    },
    {
      "cell_type": "code",
      "execution_count": null,
      "metadata": {
        "id": "ISlFqs5y_Zct"
      },
      "outputs": [],
      "source": [
        "df = df.rename(columns = {'  userID': 'user_id', 'Track': 'track', '  City  ': 'city', 'Day': 'day'})  # переименование столбцов"
      ]
    },
    {
      "cell_type": "markdown",
      "metadata": {
        "id": "KUrG7k-AxsR2"
      },
      "source": [
        "<div class=\"alert alert-success\">\n",
        "<h1> Комментарий ревьюера 👍</h1>\n",
        "\n",
        "Хороший выбор метода - rename сработает без ошибок, даже если изменится порядок столбцов.\n",
        "</div>"
      ]
    },
    {
      "cell_type": "markdown",
      "metadata": {
        "id": "1dqbh00J_Zct"
      },
      "source": [
        "Проверьте результат. Для этого ещё раз выведите на экран названия столбцов:"
      ]
    },
    {
      "cell_type": "code",
      "execution_count": null,
      "metadata": {
        "id": "d4NOAmTW_Zct",
        "outputId": "6415a282-1c47-400f-d5d9-a962c5e5c300"
      },
      "outputs": [
        {
          "data": {
            "text/plain": [
              "Index(['user_id', 'track', 'artist', 'genre', 'city', 'time', 'day'], dtype='object')"
            ]
          },
          "execution_count": 7,
          "metadata": {},
          "output_type": "execute_result"
        }
      ],
      "source": [
        "df.columns # проверка результатов - перечень названий столбцов"
      ]
    },
    {
      "cell_type": "markdown",
      "metadata": {
        "id": "5ISfbcfY_Zct"
      },
      "source": [
        "### Пропуски значений\n",
        "Сначала посчитайте, сколько в таблице пропущенных значений. Для этого достаточно двух методов `pandas`:"
      ]
    },
    {
      "cell_type": "code",
      "execution_count": null,
      "metadata": {
        "id": "RskX29qr_Zct",
        "outputId": "36c5f1ab-923d-462a-82cc-441baa37e10d"
      },
      "outputs": [
        {
          "data": {
            "text/plain": [
              "user_id       0\n",
              "track      1231\n",
              "artist     7203\n",
              "genre      1198\n",
              "city          0\n",
              "time          0\n",
              "day           0\n",
              "dtype: int64"
            ]
          },
          "execution_count": 8,
          "metadata": {},
          "output_type": "execute_result"
        }
      ],
      "source": [
        "df.isna().sum()# подсчёт пропусков"
      ]
    },
    {
      "cell_type": "markdown",
      "metadata": {
        "id": "qubhgnlO_Zct"
      },
      "source": [
        "Не все пропущенные значения влияют на исследование. Так в `track` и `artist` пропуски не важны для вашей работы. Достаточно заменить их явными обозначениями.\n",
        "\n",
        "Но пропуски в `genre` могут помешать сравнению музыкальных вкусов в Москве и Санкт-Петербурге. На практике было бы правильно установить причину пропусков и восстановить данные. Такой возможности нет в учебном проекте. Придётся:\n",
        "* заполнить и эти пропуски явными обозначениями,\n",
        "* оценить, насколько они повредят расчётам. "
      ]
    },
    {
      "cell_type": "markdown",
      "metadata": {
        "id": "fSv2laPA_Zct"
      },
      "source": [
        "Замените пропущенные значения в столбцах `track`, `artist` и `genre` на строку `'unknown'`. Для этого создайте список `columns_to_replace`, переберите его элементы циклом `for` и для каждого столбца выполните замену пропущенных значений:"
      ]
    },
    {
      "cell_type": "code",
      "execution_count": null,
      "metadata": {
        "id": "KplB5qWs_Zct"
      },
      "outputs": [],
      "source": [
        "columns_to_replace = ['track', 'artist', 'genre'] # перебор названий столбцов в цикле и замена пропущенных значений на 'unknown'\n",
        "for element in columns_to_replace:\n",
        "    df[columns_to_replace] = df[columns_to_replace].fillna('unknown')"
      ]
    },
    {
      "cell_type": "markdown",
      "metadata": {
        "id": "Ilsm-MZo_Zct"
      },
      "source": [
        "Убедитесь, что в таблице не осталось пропусков. Для этого ещё раз посчитайте пропущенные значения."
      ]
    },
    {
      "cell_type": "code",
      "execution_count": null,
      "metadata": {
        "id": "Tq4nYRX4_Zct",
        "outputId": "83507f85-7035-4017-dc7b-3df6461cad0f"
      },
      "outputs": [
        {
          "data": {
            "text/plain": [
              "user_id    0\n",
              "track      0\n",
              "artist     0\n",
              "genre      0\n",
              "city       0\n",
              "time       0\n",
              "day        0\n",
              "dtype: int64"
            ]
          },
          "execution_count": 10,
          "metadata": {},
          "output_type": "execute_result"
        }
      ],
      "source": [
        "df.isna().sum() # подсчёт пропусков"
      ]
    },
    {
      "cell_type": "code",
      "execution_count": null,
      "metadata": {
        "id": "UWhJgtOYxsR5",
        "outputId": "0e98581c-303c-4493-d2e4-2d17bab18d73"
      },
      "outputs": [
        {
          "data": {
            "text/html": [
              "<div>\n",
              "<style scoped>\n",
              "    .dataframe tbody tr th:only-of-type {\n",
              "        vertical-align: middle;\n",
              "    }\n",
              "\n",
              "    .dataframe tbody tr th {\n",
              "        vertical-align: top;\n",
              "    }\n",
              "\n",
              "    .dataframe thead th {\n",
              "        text-align: right;\n",
              "    }\n",
              "</style>\n",
              "<table border=\"1\" class=\"dataframe\">\n",
              "  <thead>\n",
              "    <tr style=\"text-align: right;\">\n",
              "      <th></th>\n",
              "      <th>user_id</th>\n",
              "      <th>track</th>\n",
              "      <th>artist</th>\n",
              "      <th>genre</th>\n",
              "      <th>city</th>\n",
              "      <th>time</th>\n",
              "      <th>day</th>\n",
              "    </tr>\n",
              "  </thead>\n",
              "  <tbody>\n",
              "    <tr>\n",
              "      <td>0</td>\n",
              "      <td>FFB692EC</td>\n",
              "      <td>Kamigata To Boots</td>\n",
              "      <td>The Mass Missile</td>\n",
              "      <td>rock</td>\n",
              "      <td>Saint-Petersburg</td>\n",
              "      <td>20:28:33</td>\n",
              "      <td>Wednesday</td>\n",
              "    </tr>\n",
              "    <tr>\n",
              "      <td>1</td>\n",
              "      <td>55204538</td>\n",
              "      <td>Delayed Because of Accident</td>\n",
              "      <td>Andreas Rönnberg</td>\n",
              "      <td>rock</td>\n",
              "      <td>Moscow</td>\n",
              "      <td>14:07:09</td>\n",
              "      <td>Friday</td>\n",
              "    </tr>\n",
              "    <tr>\n",
              "      <td>2</td>\n",
              "      <td>20EC38</td>\n",
              "      <td>Funiculì funiculà</td>\n",
              "      <td>Mario Lanza</td>\n",
              "      <td>pop</td>\n",
              "      <td>Saint-Petersburg</td>\n",
              "      <td>20:58:07</td>\n",
              "      <td>Wednesday</td>\n",
              "    </tr>\n",
              "    <tr>\n",
              "      <td>3</td>\n",
              "      <td>A3DD03C9</td>\n",
              "      <td>Dragons in the Sunset</td>\n",
              "      <td>Fire + Ice</td>\n",
              "      <td>folk</td>\n",
              "      <td>Saint-Petersburg</td>\n",
              "      <td>08:37:09</td>\n",
              "      <td>Monday</td>\n",
              "    </tr>\n",
              "    <tr>\n",
              "      <td>4</td>\n",
              "      <td>E2DC1FAE</td>\n",
              "      <td>Soul People</td>\n",
              "      <td>Space Echo</td>\n",
              "      <td>dance</td>\n",
              "      <td>Moscow</td>\n",
              "      <td>08:34:34</td>\n",
              "      <td>Monday</td>\n",
              "    </tr>\n",
              "  </tbody>\n",
              "</table>\n",
              "</div>"
            ],
            "text/plain": [
              "    user_id                        track            artist  genre  \\\n",
              "0  FFB692EC            Kamigata To Boots  The Mass Missile   rock   \n",
              "1  55204538  Delayed Because of Accident  Andreas Rönnberg   rock   \n",
              "2    20EC38            Funiculì funiculà       Mario Lanza    pop   \n",
              "3  A3DD03C9        Dragons in the Sunset        Fire + Ice   folk   \n",
              "4  E2DC1FAE                  Soul People        Space Echo  dance   \n",
              "\n",
              "               city      time        day  \n",
              "0  Saint-Petersburg  20:28:33  Wednesday  \n",
              "1            Moscow  14:07:09     Friday  \n",
              "2  Saint-Petersburg  20:58:07  Wednesday  \n",
              "3  Saint-Petersburg  08:37:09     Monday  \n",
              "4            Moscow  08:34:34     Monday  "
            ]
          },
          "execution_count": 11,
          "metadata": {},
          "output_type": "execute_result"
        }
      ],
      "source": [
        "df.head()"
      ]
    },
    {
      "cell_type": "markdown",
      "metadata": {
        "id": "BWKRtBJ3_Zct"
      },
      "source": [
        "### Дубликаты\n",
        "Посчитайте явные дубликаты в таблице одной командой:"
      ]
    },
    {
      "cell_type": "code",
      "execution_count": null,
      "metadata": {
        "id": "36eES_S0_Zct",
        "outputId": "b4e072da-6605-4f1f-cde0-7cea356290fa"
      },
      "outputs": [
        {
          "data": {
            "text/plain": [
              "3826"
            ]
          },
          "execution_count": 12,
          "metadata": {},
          "output_type": "execute_result"
        }
      ],
      "source": [
        "df.duplicated().sum()# подсчёт явных дубликатов"
      ]
    },
    {
      "cell_type": "markdown",
      "metadata": {
        "id": "1GeFe3mOxsR6"
      },
      "source": [
        "<div class=\"alert alert-success\">\n",
        "<h1> Комментарий ревьюера 👍</h1>\n",
        "\n",
        "Дубликаты верно найдены и посчитаны оптимальными методами.\n",
        "\n",
        "</div>"
      ]
    },
    {
      "cell_type": "markdown",
      "metadata": {
        "id": "Ot25h6XR_Zct"
      },
      "source": [
        "Вызовите специальный метод `pandas`, чтобы удалить явные дубликаты:"
      ]
    },
    {
      "cell_type": "code",
      "execution_count": null,
      "metadata": {
        "id": "exFHq6tt_Zct"
      },
      "outputs": [],
      "source": [
        "df = df.drop_duplicates().reset_index(drop=True)# удаление явных дубликатов (с удалением старых индексов и формированием новых)"
      ]
    },
    {
      "cell_type": "markdown",
      "metadata": {
        "id": "Im2YwBEG_Zct"
      },
      "source": [
        "Ещё раз посчитайте явные дубликаты в таблице — убедитесь, что полностью от них избавились:"
      ]
    },
    {
      "cell_type": "code",
      "execution_count": null,
      "metadata": {
        "id": "-8PuNWQ0_Zct",
        "outputId": "0462c530-5703-4490-b237-785963c1c035"
      },
      "outputs": [
        {
          "data": {
            "text/plain": [
              "0"
            ]
          },
          "execution_count": 14,
          "metadata": {},
          "output_type": "execute_result"
        }
      ],
      "source": [
        "df.duplicated().sum() # проверка на отсутствие дубликатов"
      ]
    },
    {
      "cell_type": "markdown",
      "metadata": {
        "id": "QlFBsxAr_Zct"
      },
      "source": [
        "Теперь избавьтесь от неявных дубликатов в колонке `genre`. Например, название одного и того же жанра может быть записано немного по-разному. Такие ошибки тоже повлияют на результат исследования."
      ]
    },
    {
      "cell_type": "markdown",
      "metadata": {
        "id": "eSjWwsOh_Zct"
      },
      "source": [
        "Выведите на экран список уникальных названий жанров, отсортированный в алфавитном порядке. Для этого:\n",
        "* извлеките нужный столбец датафрейма, \n",
        "* примените к нему метод сортировки,\n",
        "* для отсортированного столбца вызовите метод, который вернёт уникальные значения из столбца."
      ]
    },
    {
      "cell_type": "code",
      "execution_count": null,
      "metadata": {
        "id": "JIUcqzZN_Zct",
        "outputId": "34522951-a29b-4132-b397-b38817ca295f"
      },
      "outputs": [
        {
          "data": {
            "text/plain": [
              "array(['acid', 'acoustic', 'action', 'adult', 'africa', 'afrikaans',\n",
              "       'alternative', 'alternativepunk', 'ambient', 'americana',\n",
              "       'animated', 'anime', 'arabesk', 'arabic', 'arena',\n",
              "       'argentinetango', 'art', 'audiobook', 'author', 'avantgarde',\n",
              "       'axé', 'baile', 'balkan', 'beats', 'bigroom', 'black', 'bluegrass',\n",
              "       'blues', 'bollywood', 'bossa', 'brazilian', 'breakbeat', 'breaks',\n",
              "       'broadway', 'cantautori', 'cantopop', 'canzone', 'caribbean',\n",
              "       'caucasian', 'celtic', 'chamber', 'chanson', 'children', 'chill',\n",
              "       'chinese', 'choral', 'christian', 'christmas', 'classical',\n",
              "       'classicmetal', 'club', 'colombian', 'comedy', 'conjazz',\n",
              "       'contemporary', 'country', 'cuban', 'dance', 'dancehall',\n",
              "       'dancepop', 'dark', 'death', 'deep', 'deutschrock', 'deutschspr',\n",
              "       'dirty', 'disco', 'dnb', 'documentary', 'downbeat', 'downtempo',\n",
              "       'drum', 'dub', 'dubstep', 'eastern', 'easy', 'electronic',\n",
              "       'electropop', 'emo', 'entehno', 'epicmetal', 'estrada', 'ethnic',\n",
              "       'eurofolk', 'european', 'experimental', 'extrememetal', 'fado',\n",
              "       'fairytail', 'film', 'fitness', 'flamenco', 'folk', 'folklore',\n",
              "       'folkmetal', 'folkrock', 'folktronica', 'forró', 'frankreich',\n",
              "       'französisch', 'french', 'funk', 'future', 'gangsta', 'garage',\n",
              "       'german', 'ghazal', 'gitarre', 'glitch', 'gospel', 'gothic',\n",
              "       'grime', 'grunge', 'gypsy', 'handsup', \"hard'n'heavy\", 'hardcore',\n",
              "       'hardstyle', 'hardtechno', 'hip', 'hip-hop', 'hiphop',\n",
              "       'historisch', 'holiday', 'hop', 'horror', 'house', 'hymn', 'idm',\n",
              "       'independent', 'indian', 'indie', 'indipop', 'industrial',\n",
              "       'inspirational', 'instrumental', 'international', 'irish', 'jam',\n",
              "       'japanese', 'jazz', 'jewish', 'jpop', 'jungle', 'k-pop',\n",
              "       'karadeniz', 'karaoke', 'kayokyoku', 'korean', 'laiko', 'latin',\n",
              "       'latino', 'leftfield', 'local', 'lounge', 'loungeelectronic',\n",
              "       'lovers', 'malaysian', 'mandopop', 'marschmusik', 'meditative',\n",
              "       'mediterranean', 'melodic', 'metal', 'metalcore', 'mexican',\n",
              "       'middle', 'minimal', 'miscellaneous', 'modern', 'mood', 'mpb',\n",
              "       'muslim', 'native', 'neoklassik', 'neue', 'new', 'newage',\n",
              "       'newwave', 'nu', 'nujazz', 'numetal', 'oceania', 'old', 'opera',\n",
              "       'orchestral', 'other', 'piano', 'podcasts', 'pop', 'popdance',\n",
              "       'popelectronic', 'popeurodance', 'poprussian', 'post',\n",
              "       'posthardcore', 'postrock', 'power', 'progmetal', 'progressive',\n",
              "       'psychedelic', 'punjabi', 'punk', 'quebecois', 'ragga', 'ram',\n",
              "       'rancheras', 'rap', 'rave', 'reggae', 'reggaeton', 'regional',\n",
              "       'relax', 'religious', 'retro', 'rhythm', 'rnb', 'rnr', 'rock',\n",
              "       'rockabilly', 'rockalternative', 'rockindie', 'rockother',\n",
              "       'romance', 'roots', 'ruspop', 'rusrap', 'rusrock', 'russian',\n",
              "       'salsa', 'samba', 'scenic', 'schlager', 'self', 'sertanejo',\n",
              "       'shanson', 'shoegazing', 'showtunes', 'singer', 'ska', 'skarock',\n",
              "       'slow', 'smooth', 'soft', 'soul', 'soulful', 'sound', 'soundtrack',\n",
              "       'southern', 'specialty', 'speech', 'spiritual', 'sport',\n",
              "       'stonerrock', 'surf', 'swing', 'synthpop', 'synthrock',\n",
              "       'sängerportrait', 'tango', 'tanzorchester', 'taraftar', 'tatar',\n",
              "       'tech', 'techno', 'teen', 'thrash', 'top', 'traditional',\n",
              "       'tradjazz', 'trance', 'tribal', 'trip', 'triphop', 'tropical',\n",
              "       'türk', 'türkçe', 'ukrrock', 'unknown', 'urban', 'uzbek',\n",
              "       'variété', 'vi', 'videogame', 'vocal', 'western', 'world',\n",
              "       'worldbeat', 'ïîï', 'электроника'], dtype=object)"
            ]
          },
          "execution_count": 15,
          "metadata": {},
          "output_type": "execute_result"
        }
      ],
      "source": [
        "df['genre'].sort_values().unique()# Просмотр уникальных названий жанров"
      ]
    },
    {
      "cell_type": "markdown",
      "metadata": {
        "id": "qej-Qmuo_Zct"
      },
      "source": [
        "Просмотрите список и найдите неявные дубликаты названия `hiphop`. Это могут быть названия с ошибками или альтернативные названия того же жанра.\n",
        "\n",
        "Вы увидите следующие неявные дубликаты:\n",
        "* *hip*,\n",
        "* *hop*,\n",
        "* *hip-hop*.\n",
        "\n",
        "Чтобы очистить от них таблицу, напишите функцию `replace_wrong_genres()` с двумя параметрами: \n",
        "* `wrong_genres` — список дубликатов,\n",
        "* `correct_genre` — строка с правильным значением.\n",
        "\n",
        "Функция должна исправить колонку `genre` в таблице `df`: заменить каждое значение из списка `wrong_genres` на значение из `correct_genre`."
      ]
    },
    {
      "cell_type": "code",
      "execution_count": null,
      "metadata": {
        "id": "ErNDkmns_Zct"
      },
      "outputs": [],
      "source": [
        "wrong_hiphop = ['hip', 'hip-hop', 'hop'] \n",
        "correct_hiphop = 'hiphop'\n",
        "wrong_electr = ['электроника']\n",
        "correct_electr = 'electronic'\n",
        "\n",
        "def replace_wrong_genres(wrong_genres, correct_genre): # Функция для замены неявных дубликатов\n",
        "    for wrong_genres in wrong_genres: \n",
        "        df['genre'] = df['genre'].replace(wrong_genres, correct_genre)\n",
        "        \n",
        "    \n",
        "    \n",
        "    \n"
      ]
    },
    {
      "cell_type": "markdown",
      "metadata": {
        "id": "aDoBJxbA_Zct"
      },
      "source": [
        "Вызовите `replace_wrong_genres()` и передайте ей такие аргументы, чтобы она устранила неявные дубликаты: вместо `hip`, `hop` и `hip-hop` в таблице должно быть значение `hiphop`:"
      ]
    },
    {
      "cell_type": "code",
      "execution_count": null,
      "metadata": {
        "id": "YN5i2hpmSo09"
      },
      "outputs": [],
      "source": [
        "replace_wrong_genres(wrong_hiphop, correct_hiphop) # Устранение неявных дубликатов\n",
        "replace_wrong_genres(wrong_electr, correct_electr)"
      ]
    },
    {
      "cell_type": "markdown",
      "metadata": {
        "id": "zQKF16_RG15m"
      },
      "source": [
        "Проверьте, что заменили неправильные названия:\n",
        "\n",
        "*   hip\n",
        "*   hop\n",
        "*   hip-hop\n",
        "\n",
        "Выведите отсортированный список уникальных значений столбца `genre`:"
      ]
    },
    {
      "cell_type": "code",
      "execution_count": null,
      "metadata": {
        "id": "wvixALnFG15m",
        "outputId": "f2625aa6-2046-47ea-a049-ba2fea63580c"
      },
      "outputs": [
        {
          "data": {
            "text/plain": [
              "array(['acid', 'acoustic', 'action', 'adult', 'africa', 'afrikaans',\n",
              "       'alternative', 'alternativepunk', 'ambient', 'americana',\n",
              "       'animated', 'anime', 'arabesk', 'arabic', 'arena',\n",
              "       'argentinetango', 'art', 'audiobook', 'author', 'avantgarde',\n",
              "       'axé', 'baile', 'balkan', 'beats', 'bigroom', 'black', 'bluegrass',\n",
              "       'blues', 'bollywood', 'bossa', 'brazilian', 'breakbeat', 'breaks',\n",
              "       'broadway', 'cantautori', 'cantopop', 'canzone', 'caribbean',\n",
              "       'caucasian', 'celtic', 'chamber', 'chanson', 'children', 'chill',\n",
              "       'chinese', 'choral', 'christian', 'christmas', 'classical',\n",
              "       'classicmetal', 'club', 'colombian', 'comedy', 'conjazz',\n",
              "       'contemporary', 'country', 'cuban', 'dance', 'dancehall',\n",
              "       'dancepop', 'dark', 'death', 'deep', 'deutschrock', 'deutschspr',\n",
              "       'dirty', 'disco', 'dnb', 'documentary', 'downbeat', 'downtempo',\n",
              "       'drum', 'dub', 'dubstep', 'eastern', 'easy', 'electronic',\n",
              "       'electropop', 'emo', 'entehno', 'epicmetal', 'estrada', 'ethnic',\n",
              "       'eurofolk', 'european', 'experimental', 'extrememetal', 'fado',\n",
              "       'fairytail', 'film', 'fitness', 'flamenco', 'folk', 'folklore',\n",
              "       'folkmetal', 'folkrock', 'folktronica', 'forró', 'frankreich',\n",
              "       'französisch', 'french', 'funk', 'future', 'gangsta', 'garage',\n",
              "       'german', 'ghazal', 'gitarre', 'glitch', 'gospel', 'gothic',\n",
              "       'grime', 'grunge', 'gypsy', 'handsup', \"hard'n'heavy\", 'hardcore',\n",
              "       'hardstyle', 'hardtechno', 'hiphop', 'historisch', 'holiday',\n",
              "       'horror', 'house', 'hymn', 'idm', 'independent', 'indian', 'indie',\n",
              "       'indipop', 'industrial', 'inspirational', 'instrumental',\n",
              "       'international', 'irish', 'jam', 'japanese', 'jazz', 'jewish',\n",
              "       'jpop', 'jungle', 'k-pop', 'karadeniz', 'karaoke', 'kayokyoku',\n",
              "       'korean', 'laiko', 'latin', 'latino', 'leftfield', 'local',\n",
              "       'lounge', 'loungeelectronic', 'lovers', 'malaysian', 'mandopop',\n",
              "       'marschmusik', 'meditative', 'mediterranean', 'melodic', 'metal',\n",
              "       'metalcore', 'mexican', 'middle', 'minimal', 'miscellaneous',\n",
              "       'modern', 'mood', 'mpb', 'muslim', 'native', 'neoklassik', 'neue',\n",
              "       'new', 'newage', 'newwave', 'nu', 'nujazz', 'numetal', 'oceania',\n",
              "       'old', 'opera', 'orchestral', 'other', 'piano', 'podcasts', 'pop',\n",
              "       'popdance', 'popelectronic', 'popeurodance', 'poprussian', 'post',\n",
              "       'posthardcore', 'postrock', 'power', 'progmetal', 'progressive',\n",
              "       'psychedelic', 'punjabi', 'punk', 'quebecois', 'ragga', 'ram',\n",
              "       'rancheras', 'rap', 'rave', 'reggae', 'reggaeton', 'regional',\n",
              "       'relax', 'religious', 'retro', 'rhythm', 'rnb', 'rnr', 'rock',\n",
              "       'rockabilly', 'rockalternative', 'rockindie', 'rockother',\n",
              "       'romance', 'roots', 'ruspop', 'rusrap', 'rusrock', 'russian',\n",
              "       'salsa', 'samba', 'scenic', 'schlager', 'self', 'sertanejo',\n",
              "       'shanson', 'shoegazing', 'showtunes', 'singer', 'ska', 'skarock',\n",
              "       'slow', 'smooth', 'soft', 'soul', 'soulful', 'sound', 'soundtrack',\n",
              "       'southern', 'specialty', 'speech', 'spiritual', 'sport',\n",
              "       'stonerrock', 'surf', 'swing', 'synthpop', 'synthrock',\n",
              "       'sängerportrait', 'tango', 'tanzorchester', 'taraftar', 'tatar',\n",
              "       'tech', 'techno', 'teen', 'thrash', 'top', 'traditional',\n",
              "       'tradjazz', 'trance', 'tribal', 'trip', 'triphop', 'tropical',\n",
              "       'türk', 'türkçe', 'ukrrock', 'unknown', 'urban', 'uzbek',\n",
              "       'variété', 'vi', 'videogame', 'vocal', 'western', 'world',\n",
              "       'worldbeat', 'ïîï'], dtype=object)"
            ]
          },
          "execution_count": 18,
          "metadata": {},
          "output_type": "execute_result"
        }
      ],
      "source": [
        "df['genre'].sort_values().unique() # Проверка на неявные дубликаты"
      ]
    },
    {
      "cell_type": "markdown",
      "metadata": {
        "id": "jz6a9-7HQUDd"
      },
      "source": [
        "**Выводы**\n",
        "\n",
        "Предобработка обнаружила три проблемы в данных:\n",
        "\n",
        "- нарушения в стиле заголовков,\n",
        "- пропущенные значения,\n",
        "- дубликаты — явные и неявные.\n",
        "\n",
        "Вы исправили заголовки, чтобы упростить работу с таблицей. Без дубликатов исследование станет более точным.\n",
        "\n",
        "Пропущенные значения вы заменили на `'unknown'`. Ещё предстоит увидеть, не повредят ли исследованию пропуски в колонке `genre`.\n",
        "\n",
        "Теперь можно перейти к проверке гипотез. "
      ]
    },
    {
      "cell_type": "markdown",
      "metadata": {
        "id": "WttZHXH0SqKk"
      },
      "source": [
        "## Проверка гипотез"
      ]
    },
    {
      "cell_type": "markdown",
      "metadata": {
        "id": "Im936VVi_Zcu"
      },
      "source": [
        "### Сравнение поведения пользователей двух столиц"
      ]
    },
    {
      "cell_type": "markdown",
      "metadata": {
        "id": "nwt_MuaL_Zcu"
      },
      "source": [
        "Первая гипотеза утверждает, что пользователи по-разному слушают музыку в Москве и Санкт-Петербурге. Проверьте это предположение по данным о трёх днях недели — понедельнике, среде и пятнице. Для этого:\n",
        "\n",
        "* Разделите пользователей Москвы и Санкт-Петербурга\n",
        "* Сравните, сколько треков послушала каждая группа пользователей в понедельник, среду и пятницу.\n"
      ]
    },
    {
      "cell_type": "markdown",
      "metadata": {
        "id": "8Dw_YMmT_Zcu"
      },
      "source": [
        "Для тренировки сначала выполните каждый из расчётов по отдельности. \n",
        "\n",
        "Оцените активность пользователей в каждом городе. Сгруппируйте данные по городу и посчитайте прослушивания в каждой группе.\n",
        "\n"
      ]
    },
    {
      "cell_type": "code",
      "execution_count": null,
      "metadata": {
        "id": "0_Qs96oh_Zcu",
        "outputId": "d15e79cd-25c8-43c7-a670-c70734767f2b"
      },
      "outputs": [
        {
          "data": {
            "text/plain": [
              "city\n",
              "Moscow              42741\n",
              "Saint-Petersburg    18512\n",
              "Name: user_id, dtype: int64"
            ]
          },
          "execution_count": 19,
          "metadata": {},
          "output_type": "execute_result"
        }
      ],
      "source": [
        "user_city = df.groupby('city')['user_id'].count() # Подсчёт прослушиваний по городам\n",
        "user_city"
      ]
    },
    {
      "cell_type": "markdown",
      "metadata": {
        "id": "dzli3w8o_Zcu"
      },
      "source": [
        "В Москве прослушиваний больше, чем в Петербурге. Из этого не следует, что московские пользователи чаще слушают музыку. Просто самих пользователей в Москве больше.\n",
        "\n",
        "Теперь сгруппируйте данные по дню недели и подсчитайте прослушивания в понедельник, среду и пятницу. Учтите, что в данных есть информация только о прослушиваниях только за эти дни.\n"
      ]
    },
    {
      "cell_type": "code",
      "execution_count": null,
      "metadata": {
        "id": "uZMKjiJz_Zcu",
        "outputId": "470d573c-e7aa-41aa-bfd8-1587d164dd18"
      },
      "outputs": [
        {
          "data": {
            "text/plain": [
              "day\n",
              "Friday       21840\n",
              "Monday       21354\n",
              "Wednesday    18059\n",
              "Name: user_id, dtype: int64"
            ]
          },
          "execution_count": 20,
          "metadata": {},
          "output_type": "execute_result"
        }
      ],
      "source": [
        "day_user = df.groupby('day')['user_id'].count()# Подсчёт прослушиваний в каждый из трёх дней\n",
        "day_user"
      ]
    },
    {
      "cell_type": "markdown",
      "metadata": {
        "id": "cC2tNrlL_Zcu"
      },
      "source": [
        "В среднем пользователи из двух городов менее активны по средам. Но картина может измениться, если рассмотреть каждый город в отдельности."
      ]
    },
    {
      "cell_type": "markdown",
      "metadata": {
        "id": "POzs8bGa_Zcu"
      },
      "source": [
        "Вы видели, как работает группировка по городу и по дням недели. Теперь напишите функцию, которая объединит два эти расчёта.\n",
        "\n",
        "Создайте функцию `number_tracks()`, которая посчитает прослушивания для заданного дня и города. Ей понадобятся два параметра:\n",
        "* день недели,\n",
        "* название города.\n",
        "\n",
        "В функции сохраните в переменную строки исходной таблицы, у которых значение:\n",
        "  * в колонке `day` равно параметру `day`,\n",
        "  * в колонке `city` равно параметру `city`.\n",
        "\n",
        "Для этого примените последовательную фильтрацию с логической индексацией.\n",
        "\n",
        "Затем посчитайте значения в столбце `user_id` получившейся таблицы. Результат сохраните в новую переменную. Верните эту переменную из функции."
      ]
    },
    {
      "cell_type": "code",
      "execution_count": null,
      "metadata": {
        "id": "Nz3GdQB1_Zcu"
      },
      "outputs": [],
      "source": [
        "def number_tracks(day, city): # <создание функции number_tracks()>\n",
        "    track_list = df[df['day'] == day] \n",
        "    track_list = track_list[track_list['city'] == city] \n",
        "    track_list_count = track_list['user_id'].count() \n",
        "    return track_list_count\n",
        "\n",
        "\n",
        "# Объявляется функция с двумя параметрами: day, city.\n",
        "# В переменной track_list сохраняются те строки таблицы df, для которых \n",
        "    # значение в столбце 'day' равно параметру day и одновременно значение\n",
        "# в столбце 'city' равно параметру city (используйте последовательную фильтрацию\n",
        "    # с помощью логической индексации).\n",
        "# В переменной track_list_count сохраняется число значений столбца 'user_id',\n",
        "    # рассчитанное методом count() для таблицы track_list.\n",
        "# Функция возвращает число - значение track_list_count.\n",
        "# Функция для подсчёта прослушиваний для конкретного города и дня.\n",
        "# С помощью последовательной фильтрации с логической индексацией она \n",
        "# сначала получит из исходной таблицы строки с нужным днём,\n",
        "# затем из результата отфильтрует строки с нужным городом,\n",
        "# методом count() посчитает количество значений в колонке user_id. \n",
        "# Это количество функция вернёт в качестве результата"
      ]
    },
    {
      "cell_type": "markdown",
      "metadata": {
        "id": "ytf7xFrFJQ2r"
      },
      "source": [
        "Вызовите `number_tracks()` шесть раз, меняя значение параметров — так, чтобы получить данные для каждого города в каждый из трёх дней."
      ]
    },
    {
      "cell_type": "code",
      "execution_count": null,
      "metadata": {
        "id": "rJcRATNQ_Zcu",
        "outputId": "99950c23-0419-4155-e161-427974fba873"
      },
      "outputs": [
        {
          "data": {
            "text/plain": [
              "15740"
            ]
          },
          "execution_count": 22,
          "metadata": {},
          "output_type": "execute_result"
        }
      ],
      "source": [
        "number_tracks('Monday', 'Moscow') # количество прослушиваний в Москве по понедельникам"
      ]
    },
    {
      "cell_type": "code",
      "execution_count": null,
      "metadata": {
        "id": "hq_ncZ5T_Zcu",
        "outputId": "fcfca49d-7bf5-453f-bd90-4cc5af1312fc"
      },
      "outputs": [
        {
          "data": {
            "text/plain": [
              "5614"
            ]
          },
          "execution_count": 23,
          "metadata": {},
          "output_type": "execute_result"
        }
      ],
      "source": [
        "number_tracks('Monday', 'Saint-Petersburg')# количество прослушиваний в Санкт-Петербурге по понедельникам"
      ]
    },
    {
      "cell_type": "code",
      "execution_count": null,
      "metadata": {
        "id": "_NTy2VPU_Zcu",
        "outputId": "97415d75-fe2c-4387-b598-44def914ced6"
      },
      "outputs": [
        {
          "data": {
            "text/plain": [
              "11056"
            ]
          },
          "execution_count": 24,
          "metadata": {},
          "output_type": "execute_result"
        }
      ],
      "source": [
        "number_tracks('Wednesday', 'Moscow') # количество прослушиваний в Москве по средам"
      ]
    },
    {
      "cell_type": "code",
      "execution_count": null,
      "metadata": {
        "id": "j2y3TAwo_Zcu",
        "outputId": "8e843d00-a9db-4780-8486-de10fb02274a"
      },
      "outputs": [
        {
          "data": {
            "text/plain": [
              "7003"
            ]
          },
          "execution_count": 25,
          "metadata": {},
          "output_type": "execute_result"
        }
      ],
      "source": [
        "number_tracks('Wednesday', 'Saint-Petersburg') # количество прослушиваний в Санкт-Петербурге по средам"
      ]
    },
    {
      "cell_type": "code",
      "execution_count": null,
      "metadata": {
        "id": "vYDw5u_K_Zcu",
        "outputId": "d2464c89-5ad6-4366-a3a6-13402c8c19d7"
      },
      "outputs": [
        {
          "data": {
            "text/plain": [
              "15945"
            ]
          },
          "execution_count": 26,
          "metadata": {},
          "output_type": "execute_result"
        }
      ],
      "source": [
        "number_tracks('Friday', 'Moscow') # количество прослушиваний в Москве по пятницам"
      ]
    },
    {
      "cell_type": "code",
      "execution_count": null,
      "metadata": {
        "id": "8_yzFtW3_Zcu",
        "outputId": "12f8d292-4a10-4838-9b02-113e46139456"
      },
      "outputs": [
        {
          "data": {
            "text/plain": [
              "5895"
            ]
          },
          "execution_count": 27,
          "metadata": {},
          "output_type": "execute_result"
        }
      ],
      "source": [
        "number_tracks('Friday', 'Saint-Petersburg') # количество прослушиваний в Санкт-Петербурге по пятницам"
      ]
    },
    {
      "cell_type": "markdown",
      "metadata": {
        "id": "7QXffbO-_Zcu"
      },
      "source": [
        "Создайте c помощью конструктора `pd.DataFrame` таблицу, где\n",
        "* названия колонок — `['city', 'monday', 'wednesday', 'friday']`;\n",
        "* данные — результаты, которые вы получили с помощью `number_tracks`."
      ]
    },
    {
      "cell_type": "code",
      "execution_count": null,
      "metadata": {
        "id": "APAcLpOr_Zcu",
        "outputId": "7ba71f8b-affb-463f-f514-274678f2a22b"
      },
      "outputs": [
        {
          "data": {
            "text/html": [
              "<div>\n",
              "<style scoped>\n",
              "    .dataframe tbody tr th:only-of-type {\n",
              "        vertical-align: middle;\n",
              "    }\n",
              "\n",
              "    .dataframe tbody tr th {\n",
              "        vertical-align: top;\n",
              "    }\n",
              "\n",
              "    .dataframe thead th {\n",
              "        text-align: right;\n",
              "    }\n",
              "</style>\n",
              "<table border=\"1\" class=\"dataframe\">\n",
              "  <thead>\n",
              "    <tr style=\"text-align: right;\">\n",
              "      <th></th>\n",
              "      <th>city</th>\n",
              "      <th>monday</th>\n",
              "      <th>wednesday</th>\n",
              "      <th>friday</th>\n",
              "    </tr>\n",
              "  </thead>\n",
              "  <tbody>\n",
              "    <tr>\n",
              "      <td>0</td>\n",
              "      <td>Saint-Petersburg</td>\n",
              "      <td>5614</td>\n",
              "      <td>7003</td>\n",
              "      <td>5895</td>\n",
              "    </tr>\n",
              "    <tr>\n",
              "      <td>1</td>\n",
              "      <td>Moscow</td>\n",
              "      <td>15740</td>\n",
              "      <td>11056</td>\n",
              "      <td>15945</td>\n",
              "    </tr>\n",
              "  </tbody>\n",
              "</table>\n",
              "</div>"
            ],
            "text/plain": [
              "               city  monday  wednesday  friday\n",
              "0  Saint-Petersburg    5614       7003    5895\n",
              "1            Moscow   15740      11056   15945"
            ]
          },
          "metadata": {},
          "output_type": "display_data"
        }
      ],
      "source": [
        "col = ['city', 'monday', 'wednesday', 'friday'] # Таблица с результатами\n",
        "data = [\n",
        "    ['Saint-Petersburg', 5614, 7003, 5895],\n",
        "    ['Moscow', 15740, 11056, 15945]\n",
        "]\n",
        "res = pd.DataFrame(columns=col, data=data)\n",
        "display(res)"
      ]
    },
    {
      "cell_type": "markdown",
      "metadata": {
        "id": "-EgPIHYu_Zcu"
      },
      "source": [
        "**Выводы**\n",
        "\n",
        "Данные показывают разницу поведения пользователей:\n",
        "\n",
        "- В Москве пик прослушиваний приходится на понедельник и пятницу, а в среду заметен спад.\n",
        "- В Петербурге, наоборот, больше слушают музыку по средам. Активность в понедельник и пятницу здесь почти в равной мере уступает среде.\n",
        "\n",
        "Значит, данные говорят в пользу первой гипотезы."
      ]
    },
    {
      "cell_type": "markdown",
      "metadata": {
        "id": "atZAxtq4_Zcu"
      },
      "source": [
        "### Музыка в начале и в конце недели"
      ]
    },
    {
      "cell_type": "markdown",
      "metadata": {
        "id": "eXrQqXFH_Zcu"
      },
      "source": [
        "Согласно второй гипотезе, утром в понедельник в Москве преобладают одни жанры, а в Петербурге — другие. Так же и вечером пятницы преобладают разные жанры — в зависимости от города."
      ]
    },
    {
      "cell_type": "markdown",
      "metadata": {
        "id": "S8UcW6Hw_Zcu"
      },
      "source": [
        "Сохраните таблицы с данными в две переменные:\n",
        "* по Москве — в `moscow_general`;\n",
        "* по Санкт-Петербургу — в `spb_general`."
      ]
    },
    {
      "cell_type": "code",
      "execution_count": null,
      "metadata": {
        "id": "qeaFfM_P_Zcu"
      },
      "outputs": [],
      "source": [
        "moscow_general = df[df['city'] == 'Moscow'] # получение таблицы moscow_general из тех строк таблицы df, \n",
        "# для которых значение в столбце 'city' равно 'Moscow'\n"
      ]
    },
    {
      "cell_type": "code",
      "execution_count": null,
      "metadata": {
        "id": "ORaVRKto_Zcu"
      },
      "outputs": [],
      "source": [
        "spb_general = df[df['city'] == 'Saint-Petersburg'] # получение таблицы spb_general из тех строк таблицы df,\n",
        "# для которых значение в столбце 'city' равно 'Saint-Petersburg'\n"
      ]
    },
    {
      "cell_type": "markdown",
      "metadata": {
        "id": "MEJV-CX2_Zcu"
      },
      "source": [
        "Создайте функцию `genre_weekday()` с четырьмя параметрами:\n",
        "* таблица (датафрейм) с данными,\n",
        "* день недели,\n",
        "* начальная временная метка в формате 'hh:mm', \n",
        "* последняя временная метка в формате 'hh:mm'.\n",
        "\n",
        "Функция должна вернуть информацию о топ-10 жанров тех треков, которые прослушивали в указанный день, в промежутке между двумя отметками времени."
      ]
    },
    {
      "cell_type": "code",
      "execution_count": null,
      "metadata": {
        "id": "laJT9BYl_Zcu"
      },
      "outputs": [],
      "source": [
        "def genre_weekday(table, day, time1, time2):\n",
        "    genre_df = table[table['day'] == day]\n",
        "    genre_df = genre_df[genre_df['time'] > time1]\n",
        "    genre_df = genre_df[genre_df['time'] < time2]\n",
        "    genre_df = genre_df.groupby(by=['genre'])\n",
        "    genre_df_count = genre_df['user_id'].count()\n",
        "    genre_df_sorted = genre_df_count.sort_values(ascending=False)\n",
        "    return genre_df_sorted.head(10)\n",
        "\n",
        "# Объявление функции genre_weekday() с параметрами table, day, time1, time2,\n",
        "# которая возвращает информацию о самых популярных жанрах в указанный день в\n",
        "# заданное время:\n",
        "# 1) в переменную genre_df сохраняются те строки переданного датафрейма table, для\n",
        "#    которых одновременно:\n",
        "#    - значение в столбце day равно значению аргумента day\n",
        "#    - значение в столбце time больше значения аргумента time1\n",
        "#    - значение в столбце time меньше значения аргумента time2\n",
        "#    Используйте последовательную фильтрацию с помощью логической индексации.\n",
        "# 2) сгруппировать датафрейм genre_df по столбцу genre, взять один из его\n",
        "#    столбцов и посчитать методом count() количество записей для каждого из\n",
        "#    присутствующих жанров, получившийся Series записать в переменную\n",
        "#    genre_df_count\n",
        "# 3) отсортировать genre_df_count по убыванию встречаемости и сохранить\n",
        "#    в переменную genre_df_sorted\n",
        "# 4) вернуть Series из 10 первых значений genre_df_sorted, это будут топ-10\n",
        "#    популярных жанров (в указанный день, в заданное время)"
      ]
    },
    {
      "cell_type": "markdown",
      "metadata": {
        "id": "la2s2_PF_Zcu"
      },
      "source": [
        "Cравните результаты функции `genre_weekday()` для Москвы и Санкт-Петербурга в понедельник утром (с 7:00 до 11:00) и в пятницу вечером (с 17:00 до 23:00):"
      ]
    },
    {
      "cell_type": "code",
      "execution_count": null,
      "metadata": {
        "id": "yz7itPUQ_Zcu",
        "outputId": "c1d1c0db-6048-47d4-95ce-155aeda9e55f"
      },
      "outputs": [
        {
          "data": {
            "text/plain": [
              "genre\n",
              "pop            781\n",
              "dance          549\n",
              "electronic     480\n",
              "rock           474\n",
              "hiphop         286\n",
              "ruspop         186\n",
              "world          181\n",
              "rusrap         175\n",
              "alternative    164\n",
              "unknown        161\n",
              "Name: user_id, dtype: int64"
            ]
          },
          "execution_count": 32,
          "metadata": {},
          "output_type": "execute_result"
        }
      ],
      "source": [
        "genre_weekday(moscow_general, 'Monday', '07:00', '11:00') # вызов функции для утра понедельника в Москве (вместо df — таблица moscow_general)\n",
        "# объекты, хранящие время, являются строками и сравниваются как строки\n",
        "# пример вызова: genre_weekday(moscow_general, 'Monday', '07:00', '11:00')"
      ]
    },
    {
      "cell_type": "code",
      "execution_count": null,
      "metadata": {
        "id": "kwUcHPdy_Zcu",
        "outputId": "21439620-9e41-4ebd-eb22-b1823f59c23c"
      },
      "outputs": [
        {
          "data": {
            "text/plain": [
              "genre\n",
              "pop            218\n",
              "dance          182\n",
              "rock           162\n",
              "electronic     147\n",
              "hiphop          80\n",
              "ruspop          64\n",
              "alternative     58\n",
              "rusrap          55\n",
              "jazz            44\n",
              "classical       40\n",
              "Name: user_id, dtype: int64"
            ]
          },
          "execution_count": 33,
          "metadata": {},
          "output_type": "execute_result"
        }
      ],
      "source": [
        "genre_weekday(spb_general, 'Monday', '07:00', '11:00')# вызов функции для утра понедельника в Петербурге (вместо df — таблица spb_general)"
      ]
    },
    {
      "cell_type": "code",
      "execution_count": null,
      "metadata": {
        "id": "EzXVRE1o_Zcu",
        "outputId": "ad84827a-8ff7-4d85-f9f4-8bb66c803109"
      },
      "outputs": [
        {
          "data": {
            "text/plain": [
              "genre\n",
              "pop            713\n",
              "rock           517\n",
              "dance          495\n",
              "electronic     482\n",
              "hiphop         273\n",
              "world          208\n",
              "ruspop         170\n",
              "alternative    163\n",
              "classical      163\n",
              "rusrap         142\n",
              "Name: user_id, dtype: int64"
            ]
          },
          "execution_count": 34,
          "metadata": {},
          "output_type": "execute_result"
        }
      ],
      "source": [
        "genre_weekday(moscow_general, 'Friday', '17:00', '23:00')# вызов функции для вечера пятницы в Москве"
      ]
    },
    {
      "cell_type": "code",
      "execution_count": null,
      "metadata": {
        "id": "JZaEKu5v_Zcu",
        "outputId": "db998c6f-bcaa-4647-f537-4d39fb9a862c"
      },
      "outputs": [
        {
          "data": {
            "text/plain": [
              "genre\n",
              "pop            256\n",
              "rock           216\n",
              "electronic     216\n",
              "dance          210\n",
              "hiphop          97\n",
              "alternative     63\n",
              "jazz            61\n",
              "classical       60\n",
              "rusrap          59\n",
              "world           54\n",
              "Name: user_id, dtype: int64"
            ]
          },
          "execution_count": 35,
          "metadata": {},
          "output_type": "execute_result"
        }
      ],
      "source": [
        "genre_weekday(spb_general, 'Friday', '17:00', '23:00')# вызов функции для вечера пятницы в Петербурге"
      ]
    },
    {
      "cell_type": "markdown",
      "metadata": {
        "id": "wrCe4MNX_Zcu"
      },
      "source": [
        "**Выводы**\n",
        "\n",
        "Если сравнить топ-10 жанров в понедельник утром, можно сделать такие выводы:\n",
        "\n",
        "1. В Москве и Петербурге слушают похожую музыку. Единственное отличие — в московский рейтинг вошёл жанр “world”, а в петербургский — джаз и классика.\n",
        "\n",
        "2. В Москве пропущенных значений оказалось так много, что значение `'unknown'` заняло десятое место среди самых популярных жанров. Значит, пропущенные значения занимают существенную долю в данных и угрожают достоверности исследования.\n",
        "\n",
        "Вечер пятницы не меняет эту картину. Некоторые жанры поднимаются немного выше, другие спускаются, но в целом топ-10 остаётся тем же самым.\n",
        "\n",
        "Таким образом, вторая гипотеза подтвердилась лишь частично:\n",
        "* Пользователи слушают похожую музыку в начале недели и в конце.\n",
        "* Разница между Москвой и Петербургом не слишком выражена. В Москве чаще слушают русскую популярную музыку, в Петербурге — джаз.\n",
        "\n",
        "Однако пропуски в данных ставят под сомнение этот результат. В Москве их так много, что рейтинг топ-10 мог бы выглядеть иначе, если бы не утерянные  данные о жанрах."
      ]
    },
    {
      "cell_type": "markdown",
      "metadata": {
        "id": "JolODAqr_Zcu"
      },
      "source": [
        "### Жанровые предпочтения в Москве и Петербурге\n",
        "\n",
        "Гипотеза: Петербург — столица рэпа, музыку этого жанра там слушают чаще, чем в Москве.  А Москва — город контрастов, в котором, тем не менее, преобладает поп-музыка."
      ]
    },
    {
      "cell_type": "markdown",
      "metadata": {
        "id": "DlegSvaT_Zcu"
      },
      "source": [
        "Сгруппируйте таблицу `moscow_general` по жанру и посчитайте прослушивания треков каждого жанра методом `count()`. Затем отсортируйте результат в порядке убывания и сохраните его в таблице `moscow_genres`."
      ]
    },
    {
      "cell_type": "code",
      "execution_count": null,
      "metadata": {
        "id": "r19lIPke_Zcu"
      },
      "outputs": [],
      "source": [
        "moscow_genres = moscow_general.groupby('genre')['genre'].count().sort_values(ascending = False) \n",
        "\n",
        "# одной строкой: группировка таблицы moscow_general по столбцу 'genre', \n",
        "# подсчёт числа значений 'genre' в этой группировке методом count(), \n",
        "# сортировка получившегося Series в порядке убывания и сохранение в moscow_genres"
      ]
    },
    {
      "cell_type": "markdown",
      "metadata": {
        "id": "6kMuomxTiIr8"
      },
      "source": [
        "Выведите на экран первые десять строк `moscow_genres`:"
      ]
    },
    {
      "cell_type": "code",
      "execution_count": null,
      "metadata": {
        "id": "WhCSooF8_Zcv",
        "outputId": "a687d549-d45e-4b62-9244-3fd1c0f673fc"
      },
      "outputs": [
        {
          "data": {
            "text/plain": [
              "genre\n",
              "pop            5892\n",
              "dance          4435\n",
              "rock           3965\n",
              "electronic     3786\n",
              "hiphop         2096\n",
              "classical      1616\n",
              "world          1432\n",
              "alternative    1379\n",
              "ruspop         1372\n",
              "rusrap         1161\n",
              "Name: genre, dtype: int64"
            ]
          },
          "execution_count": 37,
          "metadata": {},
          "output_type": "execute_result"
        }
      ],
      "source": [
        "moscow_genres.head(10) # просмотр первых 10 строк moscow_genres"
      ]
    },
    {
      "cell_type": "markdown",
      "metadata": {
        "id": "cnPG2vnN_Zcv"
      },
      "source": [
        "Теперь повторите то же и для Петербурга.\n",
        "\n",
        "Сгруппируйте таблицу `spb_general` по жанру. Посчитайте прослушивания треков каждого жанра. Результат отсортируйте в порядке убывания и сохраните в таблице `spb_genres`:\n"
      ]
    },
    {
      "cell_type": "code",
      "execution_count": null,
      "metadata": {
        "id": "gluLIpE7_Zcv"
      },
      "outputs": [],
      "source": [
        "spb_genres = spb_general.groupby('genre')['genre'].count().sort_values(ascending = False) \n",
        "# одной строкой: группировка таблицы spb_general по столбцу 'genre', \n",
        "# подсчёт числа значений 'genre' в этой группировке методом count(), \n",
        "# сортировка получившегося Series в порядке убывания и сохранение в spb_genres"
      ]
    },
    {
      "cell_type": "markdown",
      "metadata": {
        "id": "5Doha_ODgyQ8"
      },
      "source": [
        "Выведите на экран первые десять строк `spb_genres`:"
      ]
    },
    {
      "cell_type": "code",
      "execution_count": null,
      "metadata": {
        "id": "uaGJHjVU_Zcv",
        "outputId": "2cff2d7e-4ff9-4f8c-e3d9-ca2dc84866ff"
      },
      "outputs": [
        {
          "data": {
            "text/plain": [
              "genre\n",
              "pop            2431\n",
              "dance          1932\n",
              "rock           1879\n",
              "electronic     1737\n",
              "hiphop          960\n",
              "alternative     649\n",
              "classical       646\n",
              "rusrap          564\n",
              "ruspop          538\n",
              "world           515\n",
              "Name: genre, dtype: int64"
            ]
          },
          "execution_count": 39,
          "metadata": {},
          "output_type": "execute_result"
        }
      ],
      "source": [
        "spb_genres.head(10) # просмотр первых 10 строк spb_genres"
      ]
    },
    {
      "cell_type": "markdown",
      "metadata": {
        "id": "RY51YJYu_Zcv"
      },
      "source": [
        "**Выводы**"
      ]
    },
    {
      "cell_type": "markdown",
      "metadata": {
        "id": "nVhnJEm__Zcv"
      },
      "source": [
        "Гипотеза частично подтвердилась:\n",
        "* Поп-музыка — самый популярный жанр в Москве, как и предполагала гипотеза. Более того, в топ-10 жанров встречается близкий жанр — русская популярная музыка.\n",
        "* Вопреки ожиданиям, рэп одинаково популярен в Москве и Петербурге. \n"
      ]
    },
    {
      "cell_type": "markdown",
      "metadata": {
        "id": "ykKQ0N65_Zcv"
      },
      "source": [
        "## Итоги исследования"
      ]
    },
    {
      "cell_type": "markdown",
      "metadata": {
        "id": "tjUwbHb3_Zcv"
      },
      "source": [
        "Вы проверили три гипотезы и установили:\n",
        "\n",
        "1. День недели по-разному влияет на активность пользователей в Москве и Петербурге. \n",
        "\n",
        "Первая гипотеза полностью подтвердилась.\n",
        "\n",
        "2. Музыкальные предпочтения не сильно меняются в течение недели — будь то Москва или Петербург. Небольшие различия заметны в начале недели, по понедельникам:\n",
        "* в Москве слушают музыку жанра “world”,\n",
        "* в Петербурге — джаз и классику.\n",
        "\n",
        "Таким образом, вторая гипотеза подтвердилась лишь отчасти. Этот результат мог оказаться иным, если бы не пропуски в данных.\n",
        "\n",
        "3. Во вкусах пользователей Москвы и Петербурга больше общего чем различий. Вопреки ожиданиям, предпочтения жанров в Петербурге напоминают московские.\n",
        "\n",
        "Третья гипотеза не подтвердилась. Если различия в предпочтениях и существуют, на основной массе пользователей они незаметны.\n",
        "\n",
        "**На практике исследования содержат проверки статистических гипотез.**\n",
        "Из данных одного сервиса не всегда можно сделать вывод о всех жителях города.\n",
        "Проверки статистических гипотез покажут, насколько они достоверны, исходя из имеющихся данных. \n",
        "С методами проверок гипотез вы ещё познакомитесь в следующих темах."
      ]
    }
  ],
  "metadata": {
    "ExecuteTimeLog": [
      {
        "duration": 621,
        "start_time": "2022-02-09T11:29:00.841Z"
      },
      {
        "duration": 349,
        "start_time": "2022-02-09T11:29:10.800Z"
      },
      {
        "duration": 837,
        "start_time": "2022-02-09T11:30:28.157Z"
      },
      {
        "duration": 203,
        "start_time": "2022-02-09T11:30:31.251Z"
      },
      {
        "duration": 212,
        "start_time": "2022-02-09T11:30:33.901Z"
      },
      {
        "duration": 15,
        "start_time": "2022-02-09T11:30:38.277Z"
      },
      {
        "duration": 33,
        "start_time": "2022-02-09T11:30:55.285Z"
      },
      {
        "duration": 4,
        "start_time": "2022-02-09T11:31:19.453Z"
      },
      {
        "duration": 72,
        "start_time": "2022-02-09T11:32:47.389Z"
      },
      {
        "duration": 6,
        "start_time": "2022-02-09T11:33:01.452Z"
      },
      {
        "duration": 70,
        "start_time": "2022-02-09T11:33:10.068Z"
      },
      {
        "duration": 60,
        "start_time": "2022-02-09T11:33:17.136Z"
      },
      {
        "duration": 4,
        "start_time": "2022-02-09T11:33:19.820Z"
      },
      {
        "duration": 65,
        "start_time": "2022-02-09T11:33:24.299Z"
      },
      {
        "duration": 69,
        "start_time": "2022-02-09T11:33:43.300Z"
      },
      {
        "duration": 5,
        "start_time": "2022-02-09T11:33:44.804Z"
      },
      {
        "duration": 28,
        "start_time": "2022-02-09T12:31:24.438Z"
      },
      {
        "duration": 56,
        "start_time": "2022-02-09T12:31:34.048Z"
      },
      {
        "duration": 5,
        "start_time": "2022-02-09T12:31:38.035Z"
      },
      {
        "duration": 25,
        "start_time": "2022-02-09T12:42:30.022Z"
      },
      {
        "duration": 8,
        "start_time": "2022-02-09T12:42:33.322Z"
      },
      {
        "duration": 29,
        "start_time": "2022-02-09T12:44:51.289Z"
      },
      {
        "duration": 511,
        "start_time": "2022-02-09T12:47:04.457Z"
      },
      {
        "duration": 357,
        "start_time": "2022-02-09T12:48:05.064Z"
      },
      {
        "duration": 300,
        "start_time": "2022-02-09T12:49:32.236Z"
      },
      {
        "duration": 314,
        "start_time": "2022-02-09T12:53:52.338Z"
      },
      {
        "duration": 185,
        "start_time": "2022-02-09T12:54:53.997Z"
      },
      {
        "duration": 183,
        "start_time": "2022-02-09T12:54:58.807Z"
      },
      {
        "duration": 30,
        "start_time": "2022-02-09T12:55:08.236Z"
      },
      {
        "duration": 87,
        "start_time": "2022-02-09T12:55:32.106Z"
      },
      {
        "duration": 83,
        "start_time": "2022-02-09T12:55:45.060Z"
      },
      {
        "duration": 275,
        "start_time": "2022-02-09T12:56:36.085Z"
      },
      {
        "duration": 100,
        "start_time": "2022-02-09T12:57:04.861Z"
      },
      {
        "duration": 82,
        "start_time": "2022-02-09T12:57:28.709Z"
      },
      {
        "duration": 3,
        "start_time": "2022-02-09T12:58:32.013Z"
      },
      {
        "duration": 293,
        "start_time": "2022-02-09T12:59:22.635Z"
      },
      {
        "duration": 369,
        "start_time": "2022-02-09T13:00:47.716Z"
      },
      {
        "duration": 4,
        "start_time": "2022-02-09T13:00:55.483Z"
      },
      {
        "duration": 13650,
        "start_time": "2022-02-09T13:01:45.854Z"
      },
      {
        "duration": -67,
        "start_time": "2022-02-09T13:02:42.574Z"
      },
      {
        "duration": 10,
        "start_time": "2022-02-09T13:02:45.083Z"
      },
      {
        "duration": 93,
        "start_time": "2022-02-10T05:57:19.472Z"
      },
      {
        "duration": 98,
        "start_time": "2022-02-10T05:57:24.929Z"
      },
      {
        "duration": 744,
        "start_time": "2022-02-10T05:57:38.193Z"
      },
      {
        "duration": 181,
        "start_time": "2022-02-10T05:57:39.362Z"
      },
      {
        "duration": 11,
        "start_time": "2022-02-10T05:57:39.984Z"
      },
      {
        "duration": 57,
        "start_time": "2022-02-10T05:57:41.113Z"
      },
      {
        "duration": 5,
        "start_time": "2022-02-10T05:57:43.216Z"
      },
      {
        "duration": 29,
        "start_time": "2022-02-10T05:57:44.689Z"
      },
      {
        "duration": 5,
        "start_time": "2022-02-10T05:57:45.697Z"
      },
      {
        "duration": 38,
        "start_time": "2022-02-10T05:57:46.832Z"
      },
      {
        "duration": 173,
        "start_time": "2022-02-10T05:57:48.312Z"
      },
      {
        "duration": 30,
        "start_time": "2022-02-10T05:57:49.403Z"
      },
      {
        "duration": 93,
        "start_time": "2022-02-10T05:57:50.496Z"
      },
      {
        "duration": 96,
        "start_time": "2022-02-10T05:57:51.662Z"
      },
      {
        "duration": 74,
        "start_time": "2022-02-10T05:57:52.882Z"
      },
      {
        "duration": 96,
        "start_time": "2022-02-10T05:57:54.424Z"
      },
      {
        "duration": 402,
        "start_time": "2022-02-10T05:58:06.487Z"
      },
      {
        "duration": 63,
        "start_time": "2022-02-10T05:58:26.024Z"
      },
      {
        "duration": 312,
        "start_time": "2022-02-10T06:13:15.722Z"
      },
      {
        "duration": 5,
        "start_time": "2022-02-10T06:13:18.314Z"
      },
      {
        "duration": 14,
        "start_time": "2022-02-10T06:13:20.512Z"
      },
      {
        "duration": 5,
        "start_time": "2022-02-10T06:14:11.154Z"
      },
      {
        "duration": 15,
        "start_time": "2022-02-10T06:14:15.217Z"
      },
      {
        "duration": 5,
        "start_time": "2022-02-10T06:14:43.057Z"
      },
      {
        "duration": 15,
        "start_time": "2022-02-10T06:14:46.041Z"
      },
      {
        "duration": 17,
        "start_time": "2022-02-10T06:15:06.058Z"
      },
      {
        "duration": 59,
        "start_time": "2022-02-10T06:15:26.113Z"
      },
      {
        "duration": 14,
        "start_time": "2022-02-10T06:18:54.199Z"
      },
      {
        "duration": 20,
        "start_time": "2022-02-10T06:19:29.589Z"
      },
      {
        "duration": 49,
        "start_time": "2022-02-10T06:20:43.055Z"
      },
      {
        "duration": 41,
        "start_time": "2022-02-10T07:36:30.966Z"
      },
      {
        "duration": 16,
        "start_time": "2022-02-10T07:36:57.689Z"
      },
      {
        "duration": 15,
        "start_time": "2022-02-10T07:37:22.576Z"
      },
      {
        "duration": 14,
        "start_time": "2022-02-10T07:38:28.688Z"
      },
      {
        "duration": 13,
        "start_time": "2022-02-10T07:38:39.769Z"
      },
      {
        "duration": 5,
        "start_time": "2022-02-10T07:45:51.654Z"
      },
      {
        "duration": 30,
        "start_time": "2022-02-10T07:46:54.443Z"
      },
      {
        "duration": 26,
        "start_time": "2022-02-10T07:48:19.924Z"
      },
      {
        "duration": 23,
        "start_time": "2022-02-10T07:48:50.011Z"
      },
      {
        "duration": 19,
        "start_time": "2022-02-10T07:48:56.779Z"
      },
      {
        "duration": 25,
        "start_time": "2022-02-10T07:49:05.421Z"
      },
      {
        "duration": 21,
        "start_time": "2022-02-10T07:49:11.077Z"
      },
      {
        "duration": 327,
        "start_time": "2022-02-10T07:52:05.300Z"
      },
      {
        "duration": 15,
        "start_time": "2022-02-10T07:52:15.993Z"
      },
      {
        "duration": 4,
        "start_time": "2022-02-10T07:54:04.040Z"
      },
      {
        "duration": 4,
        "start_time": "2022-02-10T07:54:07.651Z"
      },
      {
        "duration": -37,
        "start_time": "2022-02-10T07:54:16.454Z"
      },
      {
        "duration": -54,
        "start_time": "2022-02-10T07:54:16.472Z"
      },
      {
        "duration": -53,
        "start_time": "2022-02-10T07:54:16.473Z"
      },
      {
        "duration": -53,
        "start_time": "2022-02-10T07:54:16.476Z"
      },
      {
        "duration": 7878,
        "start_time": "2022-02-10T07:54:17.857Z"
      },
      {
        "duration": -46,
        "start_time": "2022-02-10T07:54:54.385Z"
      },
      {
        "duration": 7928,
        "start_time": "2022-02-10T07:55:13.329Z"
      },
      {
        "duration": 5,
        "start_time": "2022-02-10T07:55:23.874Z"
      },
      {
        "duration": 9241,
        "start_time": "2022-02-10T07:55:27.486Z"
      },
      {
        "duration": 8229,
        "start_time": "2022-02-10T07:55:46.241Z"
      },
      {
        "duration": 9763,
        "start_time": "2022-02-10T07:56:14.273Z"
      },
      {
        "duration": 312,
        "start_time": "2022-02-10T07:56:41.778Z"
      },
      {
        "duration": 19,
        "start_time": "2022-02-10T07:57:06.674Z"
      },
      {
        "duration": 6,
        "start_time": "2022-02-10T07:57:11.914Z"
      },
      {
        "duration": 8552,
        "start_time": "2022-02-10T07:57:14.236Z"
      },
      {
        "duration": 278,
        "start_time": "2022-02-10T07:58:14.152Z"
      },
      {
        "duration": 547,
        "start_time": "2022-02-10T07:58:21.208Z"
      },
      {
        "duration": 5,
        "start_time": "2022-02-10T07:58:37.152Z"
      },
      {
        "duration": 173,
        "start_time": "2022-02-10T07:58:37.840Z"
      },
      {
        "duration": 9,
        "start_time": "2022-02-10T07:58:38.400Z"
      },
      {
        "duration": 36,
        "start_time": "2022-02-10T07:58:39.495Z"
      },
      {
        "duration": 5,
        "start_time": "2022-02-10T07:58:41.616Z"
      },
      {
        "duration": 26,
        "start_time": "2022-02-10T07:58:42.576Z"
      },
      {
        "duration": 4,
        "start_time": "2022-02-10T07:58:43.392Z"
      },
      {
        "duration": 27,
        "start_time": "2022-02-10T07:58:45.293Z"
      },
      {
        "duration": 165,
        "start_time": "2022-02-10T07:58:55.083Z"
      },
      {
        "duration": 31,
        "start_time": "2022-02-10T07:58:56.503Z"
      },
      {
        "duration": 80,
        "start_time": "2022-02-10T07:58:57.623Z"
      },
      {
        "duration": 89,
        "start_time": "2022-02-10T07:58:58.743Z"
      },
      {
        "duration": 74,
        "start_time": "2022-02-10T07:58:59.655Z"
      },
      {
        "duration": 59,
        "start_time": "2022-02-10T07:59:01.335Z"
      },
      {
        "duration": 5,
        "start_time": "2022-02-10T07:59:03.863Z"
      },
      {
        "duration": 4,
        "start_time": "2022-02-10T07:59:08.736Z"
      },
      {
        "duration": 20,
        "start_time": "2022-02-10T07:59:10.645Z"
      },
      {
        "duration": 55,
        "start_time": "2022-02-10T07:59:12.247Z"
      },
      {
        "duration": 13,
        "start_time": "2022-02-10T07:59:17.047Z"
      },
      {
        "duration": 13,
        "start_time": "2022-02-10T07:59:20.079Z"
      },
      {
        "duration": 5,
        "start_time": "2022-02-10T07:59:28.921Z"
      },
      {
        "duration": 21,
        "start_time": "2022-02-10T07:59:31.600Z"
      },
      {
        "duration": 20,
        "start_time": "2022-02-10T07:59:32.455Z"
      },
      {
        "duration": 27,
        "start_time": "2022-02-10T07:59:33.060Z"
      },
      {
        "duration": 18,
        "start_time": "2022-02-10T07:59:33.552Z"
      },
      {
        "duration": 22,
        "start_time": "2022-02-10T07:59:34.991Z"
      },
      {
        "duration": 20,
        "start_time": "2022-02-10T07:59:36.047Z"
      },
      {
        "duration": 13,
        "start_time": "2022-02-10T07:59:39.669Z"
      },
      {
        "duration": 14,
        "start_time": "2022-02-10T08:03:46.783Z"
      },
      {
        "duration": 12,
        "start_time": "2022-02-10T08:04:18.353Z"
      },
      {
        "duration": 5,
        "start_time": "2022-02-10T08:05:15.166Z"
      },
      {
        "duration": 5,
        "start_time": "2022-02-10T08:05:17.582Z"
      },
      {
        "duration": 26,
        "start_time": "2022-02-10T08:05:18.821Z"
      },
      {
        "duration": 34,
        "start_time": "2022-02-10T08:05:19.494Z"
      },
      {
        "duration": 30,
        "start_time": "2022-02-10T08:05:20.014Z"
      },
      {
        "duration": 18,
        "start_time": "2022-02-10T08:05:20.494Z"
      },
      {
        "duration": 21,
        "start_time": "2022-02-10T08:05:20.958Z"
      },
      {
        "duration": 20,
        "start_time": "2022-02-10T08:05:21.589Z"
      },
      {
        "duration": 13,
        "start_time": "2022-02-10T08:05:23.940Z"
      },
      {
        "duration": 26,
        "start_time": "2022-02-10T08:05:27.309Z"
      },
      {
        "duration": 13,
        "start_time": "2022-02-10T08:05:28.005Z"
      },
      {
        "duration": 96,
        "start_time": "2022-02-10T08:11:17.660Z"
      },
      {
        "duration": 5,
        "start_time": "2022-02-10T08:11:25.035Z"
      },
      {
        "duration": 7,
        "start_time": "2022-02-10T08:14:02.715Z"
      },
      {
        "duration": 7130,
        "start_time": "2022-02-10T08:15:21.594Z"
      },
      {
        "duration": 89,
        "start_time": "2022-02-10T08:16:04.304Z"
      },
      {
        "duration": 21,
        "start_time": "2022-02-10T08:16:10.899Z"
      },
      {
        "duration": 17,
        "start_time": "2022-02-10T08:16:30.493Z"
      },
      {
        "duration": 8203,
        "start_time": "2022-02-10T08:16:38.241Z"
      },
      {
        "duration": 5,
        "start_time": "2022-02-10T08:18:19.314Z"
      },
      {
        "duration": 7206,
        "start_time": "2022-02-10T08:18:24.036Z"
      },
      {
        "duration": 6,
        "start_time": "2022-02-10T08:18:47.664Z"
      },
      {
        "duration": 7399,
        "start_time": "2022-02-10T08:18:56.225Z"
      },
      {
        "duration": 6,
        "start_time": "2022-02-10T08:20:58.664Z"
      },
      {
        "duration": 7525,
        "start_time": "2022-02-10T08:21:03.152Z"
      },
      {
        "duration": 6,
        "start_time": "2022-02-10T08:22:13.736Z"
      },
      {
        "duration": 29,
        "start_time": "2022-02-10T08:22:17.239Z"
      },
      {
        "duration": 25,
        "start_time": "2022-02-10T08:22:38.657Z"
      },
      {
        "duration": 31,
        "start_time": "2022-02-10T08:23:09.777Z"
      },
      {
        "duration": 24,
        "start_time": "2022-02-10T08:23:19.375Z"
      },
      {
        "duration": 348,
        "start_time": "2022-02-10T08:28:51.252Z"
      },
      {
        "duration": 295,
        "start_time": "2022-02-10T08:46:41.791Z"
      },
      {
        "duration": 333,
        "start_time": "2022-02-10T08:46:46.781Z"
      },
      {
        "duration": 398,
        "start_time": "2022-02-10T08:46:58.239Z"
      },
      {
        "duration": 298,
        "start_time": "2022-02-10T08:47:24.957Z"
      },
      {
        "duration": 426,
        "start_time": "2022-02-10T08:48:02.245Z"
      },
      {
        "duration": 94,
        "start_time": "2022-02-10T08:48:19.861Z"
      },
      {
        "duration": 307,
        "start_time": "2022-02-10T08:48:41.174Z"
      },
      {
        "duration": 594,
        "start_time": "2022-02-10T08:49:05.369Z"
      },
      {
        "duration": 22,
        "start_time": "2022-02-10T08:49:39.069Z"
      },
      {
        "duration": 22,
        "start_time": "2022-02-10T08:49:48.076Z"
      },
      {
        "duration": 295,
        "start_time": "2022-02-10T08:51:04.492Z"
      },
      {
        "duration": 15,
        "start_time": "2022-02-10T08:51:23.453Z"
      },
      {
        "duration": 11,
        "start_time": "2022-02-10T08:51:29.475Z"
      },
      {
        "duration": 7,
        "start_time": "2022-02-10T08:51:53.643Z"
      },
      {
        "duration": 5,
        "start_time": "2022-02-10T08:52:04.276Z"
      },
      {
        "duration": 276,
        "start_time": "2022-02-10T08:52:40.751Z"
      },
      {
        "duration": 8,
        "start_time": "2022-02-10T08:52:43.548Z"
      },
      {
        "duration": 6,
        "start_time": "2022-02-10T08:52:45.922Z"
      },
      {
        "duration": 585,
        "start_time": "2022-02-15T18:32:41.068Z"
      },
      {
        "duration": 144,
        "start_time": "2022-02-15T18:32:41.655Z"
      },
      {
        "duration": 8,
        "start_time": "2022-02-15T18:32:41.804Z"
      },
      {
        "duration": 48,
        "start_time": "2022-02-15T18:32:41.814Z"
      },
      {
        "duration": 5,
        "start_time": "2022-02-15T18:32:41.864Z"
      },
      {
        "duration": 31,
        "start_time": "2022-02-15T18:32:41.871Z"
      },
      {
        "duration": 5,
        "start_time": "2022-02-15T18:32:41.905Z"
      },
      {
        "duration": 55,
        "start_time": "2022-02-15T18:32:41.912Z"
      },
      {
        "duration": 132,
        "start_time": "2022-02-15T18:32:41.969Z"
      },
      {
        "duration": 21,
        "start_time": "2022-02-15T18:32:42.103Z"
      },
      {
        "duration": 71,
        "start_time": "2022-02-15T18:32:42.126Z"
      },
      {
        "duration": 78,
        "start_time": "2022-02-15T18:32:42.199Z"
      },
      {
        "duration": 48,
        "start_time": "2022-02-15T18:32:42.278Z"
      },
      {
        "duration": 49,
        "start_time": "2022-02-15T18:32:42.327Z"
      },
      {
        "duration": 4,
        "start_time": "2022-02-15T18:32:42.379Z"
      },
      {
        "duration": 19,
        "start_time": "2022-02-15T18:32:42.385Z"
      },
      {
        "duration": 38,
        "start_time": "2022-02-15T18:32:42.406Z"
      },
      {
        "duration": 10,
        "start_time": "2022-02-15T18:32:42.459Z"
      },
      {
        "duration": 11,
        "start_time": "2022-02-15T18:32:42.471Z"
      },
      {
        "duration": 7,
        "start_time": "2022-02-15T18:32:42.484Z"
      },
      {
        "duration": 25,
        "start_time": "2022-02-15T18:32:42.493Z"
      },
      {
        "duration": 15,
        "start_time": "2022-02-15T18:32:42.521Z"
      },
      {
        "duration": 14,
        "start_time": "2022-02-15T18:32:42.559Z"
      },
      {
        "duration": 13,
        "start_time": "2022-02-15T18:32:42.575Z"
      },
      {
        "duration": 16,
        "start_time": "2022-02-15T18:32:42.590Z"
      },
      {
        "duration": 16,
        "start_time": "2022-02-15T18:32:42.608Z"
      },
      {
        "duration": 40,
        "start_time": "2022-02-15T18:32:42.626Z"
      },
      {
        "duration": 14,
        "start_time": "2022-02-15T18:32:42.668Z"
      },
      {
        "duration": 9,
        "start_time": "2022-02-15T18:32:42.684Z"
      },
      {
        "duration": 5,
        "start_time": "2022-02-15T18:32:42.695Z"
      },
      {
        "duration": 23,
        "start_time": "2022-02-15T18:32:42.702Z"
      },
      {
        "duration": 44,
        "start_time": "2022-02-15T18:32:42.727Z"
      },
      {
        "duration": 17,
        "start_time": "2022-02-15T18:32:42.773Z"
      },
      {
        "duration": 13,
        "start_time": "2022-02-15T18:32:42.792Z"
      },
      {
        "duration": 7,
        "start_time": "2022-02-15T18:32:42.807Z"
      },
      {
        "duration": 4,
        "start_time": "2022-02-15T18:32:42.816Z"
      },
      {
        "duration": 43,
        "start_time": "2022-02-15T18:32:42.821Z"
      },
      {
        "duration": 4,
        "start_time": "2022-02-15T18:32:42.866Z"
      },
      {
        "duration": 10,
        "start_time": "2022-02-15T18:39:16.735Z"
      },
      {
        "duration": 58,
        "start_time": "2022-02-15T18:41:21.886Z"
      },
      {
        "duration": 585,
        "start_time": "2022-02-16T05:33:22.091Z"
      },
      {
        "duration": 147,
        "start_time": "2022-02-16T05:33:24.808Z"
      },
      {
        "duration": 18,
        "start_time": "2022-02-16T05:33:27.352Z"
      },
      {
        "duration": 342,
        "start_time": "2022-02-16T06:00:32.047Z"
      },
      {
        "duration": 3,
        "start_time": "2022-02-16T06:01:51.123Z"
      },
      {
        "duration": 152,
        "start_time": "2022-02-16T06:01:52.773Z"
      },
      {
        "duration": 10,
        "start_time": "2022-02-16T06:01:55.181Z"
      },
      {
        "duration": 25,
        "start_time": "2022-02-16T06:01:57.877Z"
      },
      {
        "duration": 4,
        "start_time": "2022-02-16T06:02:11.398Z"
      },
      {
        "duration": 21,
        "start_time": "2022-02-16T06:02:15.701Z"
      },
      {
        "duration": 4,
        "start_time": "2022-02-16T06:02:18.281Z"
      },
      {
        "duration": 23,
        "start_time": "2022-02-16T06:02:20.708Z"
      },
      {
        "duration": 33,
        "start_time": "2022-02-16T06:02:23.894Z"
      },
      {
        "duration": 22,
        "start_time": "2022-02-16T06:02:31.886Z"
      },
      {
        "duration": 64,
        "start_time": "2022-02-16T06:05:19.300Z"
      },
      {
        "duration": 22,
        "start_time": "2022-02-16T06:05:22.453Z"
      },
      {
        "duration": 37,
        "start_time": "2022-02-16T06:05:33.214Z"
      },
      {
        "duration": 23,
        "start_time": "2022-02-16T06:05:35.604Z"
      },
      {
        "duration": 60,
        "start_time": "2022-02-16T06:06:08.806Z"
      },
      {
        "duration": 23,
        "start_time": "2022-02-16T06:06:16.308Z"
      },
      {
        "duration": 22,
        "start_time": "2022-02-16T06:06:28.924Z"
      },
      {
        "duration": 22,
        "start_time": "2022-02-16T06:06:35.364Z"
      },
      {
        "duration": 10,
        "start_time": "2022-02-16T06:06:38.379Z"
      },
      {
        "duration": 58,
        "start_time": "2022-02-16T06:10:28.189Z"
      },
      {
        "duration": 64,
        "start_time": "2022-02-16T06:13:37.160Z"
      },
      {
        "duration": 22,
        "start_time": "2022-02-16T06:13:39.778Z"
      },
      {
        "duration": 55,
        "start_time": "2022-02-16T06:16:23.913Z"
      },
      {
        "duration": 59,
        "start_time": "2022-02-16T06:16:33.811Z"
      },
      {
        "duration": 22,
        "start_time": "2022-02-16T06:16:36.025Z"
      },
      {
        "duration": 9,
        "start_time": "2022-02-16T06:16:38.743Z"
      },
      {
        "duration": 56,
        "start_time": "2022-02-16T06:16:48.289Z"
      },
      {
        "duration": 22,
        "start_time": "2022-02-16T06:16:57.666Z"
      },
      {
        "duration": 23,
        "start_time": "2022-02-16T06:17:08.305Z"
      },
      {
        "duration": 4,
        "start_time": "2022-02-16T06:17:14.569Z"
      },
      {
        "duration": 4,
        "start_time": "2022-02-16T06:17:23.010Z"
      },
      {
        "duration": 3,
        "start_time": "2022-02-16T06:17:34.881Z"
      },
      {
        "duration": 146,
        "start_time": "2022-02-16T06:17:36.673Z"
      },
      {
        "duration": 10,
        "start_time": "2022-02-16T06:17:38.643Z"
      },
      {
        "duration": 23,
        "start_time": "2022-02-16T06:17:41.524Z"
      },
      {
        "duration": 4,
        "start_time": "2022-02-16T06:17:47.474Z"
      },
      {
        "duration": 20,
        "start_time": "2022-02-16T06:17:49.178Z"
      },
      {
        "duration": 5,
        "start_time": "2022-02-16T06:17:51.026Z"
      },
      {
        "duration": 24,
        "start_time": "2022-02-16T06:17:52.353Z"
      },
      {
        "duration": 58,
        "start_time": "2022-02-16T06:17:59.257Z"
      },
      {
        "duration": 25,
        "start_time": "2022-02-16T06:18:02.178Z"
      },
      {
        "duration": 12,
        "start_time": "2022-02-16T06:18:05.506Z"
      },
      {
        "duration": 57,
        "start_time": "2022-02-16T06:18:09.770Z"
      },
      {
        "duration": 64,
        "start_time": "2022-02-16T06:18:16.369Z"
      },
      {
        "duration": 57,
        "start_time": "2022-02-16T06:18:18.545Z"
      },
      {
        "duration": 44,
        "start_time": "2022-02-16T06:18:21.033Z"
      },
      {
        "duration": 50,
        "start_time": "2022-02-16T06:18:48.201Z"
      },
      {
        "duration": 42,
        "start_time": "2022-02-16T06:18:58.512Z"
      },
      {
        "duration": 42,
        "start_time": "2022-02-16T06:19:09.025Z"
      },
      {
        "duration": 4,
        "start_time": "2022-02-16T06:19:38.017Z"
      },
      {
        "duration": 11,
        "start_time": "2022-02-16T06:19:43.280Z"
      },
      {
        "duration": 40,
        "start_time": "2022-02-16T06:19:55.175Z"
      },
      {
        "duration": 10,
        "start_time": "2022-02-16T06:20:21.048Z"
      },
      {
        "duration": 9,
        "start_time": "2022-02-16T06:20:21.912Z"
      },
      {
        "duration": 12,
        "start_time": "2022-02-16T06:20:27.944Z"
      },
      {
        "duration": 12,
        "start_time": "2022-02-16T06:20:36.112Z"
      },
      {
        "duration": 4,
        "start_time": "2022-02-16T06:20:48.921Z"
      },
      {
        "duration": 17,
        "start_time": "2022-02-16T06:20:58.601Z"
      },
      {
        "duration": 18,
        "start_time": "2022-02-16T06:21:01.401Z"
      },
      {
        "duration": 17,
        "start_time": "2022-02-16T06:21:01.953Z"
      },
      {
        "duration": 17,
        "start_time": "2022-02-16T06:21:02.465Z"
      },
      {
        "duration": 15,
        "start_time": "2022-02-16T06:21:02.985Z"
      },
      {
        "duration": 19,
        "start_time": "2022-02-16T06:21:04.448Z"
      },
      {
        "duration": 16,
        "start_time": "2022-02-16T06:21:05.536Z"
      },
      {
        "duration": 9,
        "start_time": "2022-02-16T06:21:06.743Z"
      },
      {
        "duration": 12,
        "start_time": "2022-02-16T06:21:14.920Z"
      },
      {
        "duration": 10,
        "start_time": "2022-02-16T06:21:15.811Z"
      },
      {
        "duration": 5,
        "start_time": "2022-02-16T06:21:23.065Z"
      },
      {
        "duration": 22,
        "start_time": "2022-02-16T06:21:25.598Z"
      },
      {
        "duration": 13,
        "start_time": "2022-02-16T06:21:28.081Z"
      },
      {
        "duration": 18,
        "start_time": "2022-02-16T06:21:29.435Z"
      },
      {
        "duration": 11,
        "start_time": "2022-02-16T06:21:29.455Z"
      },
      {
        "duration": 8,
        "start_time": "2022-02-16T06:21:39.896Z"
      },
      {
        "duration": 5,
        "start_time": "2022-02-16T06:21:45.639Z"
      },
      {
        "duration": 5,
        "start_time": "2022-02-16T06:21:51.424Z"
      },
      {
        "duration": 6,
        "start_time": "2022-02-16T06:21:54.994Z"
      },
      {
        "duration": 5,
        "start_time": "2022-02-16T06:21:59.544Z"
      },
      {
        "duration": 12,
        "start_time": "2022-02-16T06:22:38.296Z"
      },
      {
        "duration": 14,
        "start_time": "2022-02-16T06:22:46.543Z"
      },
      {
        "duration": 15,
        "start_time": "2022-02-16T06:22:56.952Z"
      },
      {
        "duration": 14,
        "start_time": "2022-02-16T06:23:03.695Z"
      },
      {
        "duration": 3,
        "start_time": "2022-02-16T06:23:24.360Z"
      },
      {
        "duration": 146,
        "start_time": "2022-02-16T06:23:25.623Z"
      },
      {
        "duration": 11,
        "start_time": "2022-02-16T06:23:27.797Z"
      },
      {
        "duration": 26,
        "start_time": "2022-02-16T06:23:30.511Z"
      },
      {
        "duration": 4,
        "start_time": "2022-02-16T06:23:35.327Z"
      },
      {
        "duration": 17,
        "start_time": "2022-02-16T06:23:36.953Z"
      },
      {
        "duration": 4,
        "start_time": "2022-02-16T06:23:38.719Z"
      },
      {
        "duration": 23,
        "start_time": "2022-02-16T06:23:40.351Z"
      },
      {
        "duration": 57,
        "start_time": "2022-02-16T06:23:43.368Z"
      },
      {
        "duration": 24,
        "start_time": "2022-02-16T06:23:50.976Z"
      },
      {
        "duration": 10,
        "start_time": "2022-02-16T06:23:51.768Z"
      },
      {
        "duration": 54,
        "start_time": "2022-02-16T06:23:53.767Z"
      },
      {
        "duration": 62,
        "start_time": "2022-02-16T06:23:58.649Z"
      },
      {
        "duration": 57,
        "start_time": "2022-02-16T06:24:00.127Z"
      },
      {
        "duration": 45,
        "start_time": "2022-02-16T06:24:02.136Z"
      },
      {
        "duration": 4,
        "start_time": "2022-02-16T06:24:04.144Z"
      },
      {
        "duration": 12,
        "start_time": "2022-02-16T06:24:06.111Z"
      },
      {
        "duration": 42,
        "start_time": "2022-02-16T06:24:07.663Z"
      },
      {
        "duration": 11,
        "start_time": "2022-02-16T06:24:22.239Z"
      },
      {
        "duration": 11,
        "start_time": "2022-02-16T06:24:28.231Z"
      },
      {
        "duration": 3,
        "start_time": "2022-02-16T06:24:30.633Z"
      },
      {
        "duration": 17,
        "start_time": "2022-02-16T06:24:32.456Z"
      },
      {
        "duration": 16,
        "start_time": "2022-02-16T06:24:33.000Z"
      },
      {
        "duration": 16,
        "start_time": "2022-02-16T06:24:33.576Z"
      },
      {
        "duration": 15,
        "start_time": "2022-02-16T06:24:34.223Z"
      },
      {
        "duration": 17,
        "start_time": "2022-02-16T06:24:35.297Z"
      },
      {
        "duration": 17,
        "start_time": "2022-02-16T06:24:35.880Z"
      },
      {
        "duration": 9,
        "start_time": "2022-02-16T06:24:45.567Z"
      },
      {
        "duration": 12,
        "start_time": "2022-02-16T06:24:53.783Z"
      },
      {
        "duration": 10,
        "start_time": "2022-02-16T06:24:54.368Z"
      },
      {
        "duration": 5,
        "start_time": "2022-02-16T06:24:55.688Z"
      },
      {
        "duration": 21,
        "start_time": "2022-02-16T06:24:57.056Z"
      },
      {
        "duration": 15,
        "start_time": "2022-02-16T06:24:57.970Z"
      },
      {
        "duration": 19,
        "start_time": "2022-02-16T06:24:59.431Z"
      },
      {
        "duration": 13,
        "start_time": "2022-02-16T06:25:00.535Z"
      },
      {
        "duration": 9,
        "start_time": "2022-02-16T06:25:03.968Z"
      },
      {
        "duration": 5,
        "start_time": "2022-02-16T06:25:05.295Z"
      },
      {
        "duration": 7,
        "start_time": "2022-02-16T06:25:07.439Z"
      },
      {
        "duration": 5,
        "start_time": "2022-02-16T06:25:08.679Z"
      },
      {
        "duration": 631,
        "start_time": "2022-02-16T15:47:36.900Z"
      },
      {
        "duration": 166,
        "start_time": "2022-02-16T15:47:37.533Z"
      },
      {
        "duration": 21,
        "start_time": "2022-02-16T15:47:37.702Z"
      },
      {
        "duration": 55,
        "start_time": "2022-02-16T15:47:37.725Z"
      },
      {
        "duration": 13,
        "start_time": "2022-02-16T15:47:37.782Z"
      },
      {
        "duration": 42,
        "start_time": "2022-02-16T15:47:37.797Z"
      },
      {
        "duration": 23,
        "start_time": "2022-02-16T15:47:37.841Z"
      },
      {
        "duration": 35,
        "start_time": "2022-02-16T15:47:37.866Z"
      },
      {
        "duration": 86,
        "start_time": "2022-02-16T15:47:37.904Z"
      },
      {
        "duration": 25,
        "start_time": "2022-02-16T15:47:37.993Z"
      },
      {
        "duration": 31,
        "start_time": "2022-02-16T15:47:38.020Z"
      },
      {
        "duration": 83,
        "start_time": "2022-02-16T15:47:38.053Z"
      },
      {
        "duration": 83,
        "start_time": "2022-02-16T15:47:38.138Z"
      },
      {
        "duration": 67,
        "start_time": "2022-02-16T15:47:38.223Z"
      },
      {
        "duration": 46,
        "start_time": "2022-02-16T15:47:38.292Z"
      },
      {
        "duration": 17,
        "start_time": "2022-02-16T15:47:38.340Z"
      },
      {
        "duration": 32,
        "start_time": "2022-02-16T15:47:38.359Z"
      },
      {
        "duration": 46,
        "start_time": "2022-02-16T15:47:38.393Z"
      },
      {
        "duration": 13,
        "start_time": "2022-02-16T15:47:38.441Z"
      },
      {
        "duration": 23,
        "start_time": "2022-02-16T15:47:38.456Z"
      },
      {
        "duration": 4,
        "start_time": "2022-02-16T15:47:38.481Z"
      },
      {
        "duration": 26,
        "start_time": "2022-02-16T15:47:38.487Z"
      },
      {
        "duration": 17,
        "start_time": "2022-02-16T15:47:38.515Z"
      },
      {
        "duration": 50,
        "start_time": "2022-02-16T15:47:38.534Z"
      },
      {
        "duration": 17,
        "start_time": "2022-02-16T15:47:38.586Z"
      },
      {
        "duration": 20,
        "start_time": "2022-02-16T15:47:38.605Z"
      },
      {
        "duration": 43,
        "start_time": "2022-02-16T15:47:38.629Z"
      },
      {
        "duration": 10,
        "start_time": "2022-02-16T15:47:38.674Z"
      },
      {
        "duration": 16,
        "start_time": "2022-02-16T15:47:38.686Z"
      },
      {
        "duration": 12,
        "start_time": "2022-02-16T15:47:38.704Z"
      },
      {
        "duration": 4,
        "start_time": "2022-02-16T15:47:38.719Z"
      },
      {
        "duration": 53,
        "start_time": "2022-02-16T15:47:38.725Z"
      },
      {
        "duration": 16,
        "start_time": "2022-02-16T15:47:38.779Z"
      },
      {
        "duration": 20,
        "start_time": "2022-02-16T15:47:38.798Z"
      },
      {
        "duration": 15,
        "start_time": "2022-02-16T15:47:38.820Z"
      },
      {
        "duration": 8,
        "start_time": "2022-02-16T15:47:38.870Z"
      },
      {
        "duration": 7,
        "start_time": "2022-02-16T15:47:38.880Z"
      },
      {
        "duration": 9,
        "start_time": "2022-02-16T15:47:38.889Z"
      },
      {
        "duration": 7,
        "start_time": "2022-02-16T15:47:38.899Z"
      }
    ],
    "colab": {
      "collapsed_sections": [
        "E0vqbgi9ay0H",
        "VUC88oWjTJw2"
      ],
      "provenance": []
    },
    "kernelspec": {
      "display_name": "Python 3 (ipykernel)",
      "language": "python",
      "name": "python3"
    },
    "language_info": {
      "codemirror_mode": {
        "name": "ipython",
        "version": 3
      },
      "file_extension": ".py",
      "mimetype": "text/x-python",
      "name": "python",
      "nbconvert_exporter": "python",
      "pygments_lexer": "ipython3",
      "version": "3.9.5"
    },
    "toc": {
      "base_numbering": 1,
      "nav_menu": {},
      "number_sections": true,
      "sideBar": true,
      "skip_h1_title": true,
      "title_cell": "Table of Contents",
      "title_sidebar": "Contents",
      "toc_cell": false,
      "toc_position": {},
      "toc_section_display": true,
      "toc_window_display": false
    }
  },
  "nbformat": 4,
  "nbformat_minor": 0
}